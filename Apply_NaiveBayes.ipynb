{
  "cells": [
    {
      "cell_type": "markdown",
      "metadata": {
        "id": "Dnubs-Nnb3cw"
      },
      "source": [
        "# Apply Naive Bayes"
      ]
    },
    {
      "cell_type": "markdown",
      "metadata": {
        "id": "RW0zYHb5m_wI"
      },
      "source": [
        "<ol>\n",
        "    **<li> Problem Description </li>**\n",
        "    <li>Minimum data points need to be considered for people having 4GB RAM is <strong>50k</strong> and for 8GB RAM is <strong>100k</strong></li>\n",
        "    <li>When you are using ramdomsearchcv or gridsearchcv you need not split the data into X_train,X_cv,X_test. As the above methods use kfold. The model will learn better if train data is more so splitting to X_train,X_test will suffice.</li>\n",
        "    <li>If you are writing for loops to tune your model then you need split the data into X_train,X_cv,X_test.</li>\n",
        "    <li>While splitting the data explore stratify parameter. </li>\n",
        "    <li><strong>Apply Multinomial NB on these feature sets</strong></li>\n",
        "        <ul>\n",
        "            <li>Features that need to be considered</li>\n",
        "                <dl>\n",
        "                  <dt>essay</dt>\n",
        "                    <dd>while encoding essay, try to experiment with the max_features and n_grams parameter of vectorizers and see if it increases AUC score.</dd>\n",
        "                  <dt>categorical features</dt>\n",
        "                  <dd> - teacher_prefix</dd>\n",
        "                  <dd> - project_grade_category</dd>\n",
        "                  <dd> - school_state</dd>\n",
        "                  <dd> - clean_categories</dd>\n",
        "                  <dd> - clean_subcategories</dd>\n",
        "                  <dt>numerical features</dt>\n",
        "                  <dd> - price</dd>\n",
        "                  <dd> - teacher_number_of_previously_posted_projects</dd>\n",
        "                  <dd>while encoding the numerical features check <a href='https://imgur.com/ldZA1zg'>this</a> and <a href='https://ac-classroom-production.s3.amazonaws.com/public/COMMENT/Annotation_2020-05-21_225912_0lyZzN8.jpg'>this</a></dd>\n",
        "                </dl>    \n",
        "            <li><font color='red'>Set 1</font>: categorical, numerical features + preprocessed_eassay (BOW)</li>\n",
        "            <li><font color='red'>Set 2</font>: categorical, numerical features + preprocessed_eassay (TFIDF)</li>\n",
        "        </ul>\n",
        "    <li><strong>The hyper paramter tuning(find best alpha:smoothing parameter)</strong>\n",
        "        <ul>\n",
        "    <li>Consider alpha values in range: 10^-5 to 10^2 like [0.00001,0.0005, 0.0001,0.005,0.001,0.05,0.01,0.1,0.5,1,5,10,50,100]</li>\n",
        "    <li>Explore class_prior = [0.5, 0.5] parameter which can be present in MultinomialNB function(go through <a href='https://scikit-learn.org/stable/modules/generated/sklearn.naive_bayes.MultinomialNB.html'>this</a> ) then check how results might change.\n",
        "    <li>Find the best hyper parameter which will give the maximum <a href='https://www.appliedaicourse.com/course/applied-ai-course-online/lessons/receiver-operating-characteristic-curve-roc-curve-and-auc-1/'>AUC</a> value</li>\n",
        "    <li>For hyper parameter tuning using k-fold cross validation(use GridsearchCV or RandomsearchCV)/simple cross validation data (write for loop to iterate over hyper parameter values)</li>\n",
        "    <li>You need to plot the performance of model both on train data and cross validation data for each hyper parameter, like shown in the figure\n",
        "    <img src='https://i.imgur.com/hUv6aEy.jpg' width=300px><dd>-while plotting take log(alpha) on your X-axis so that it will be more readable</dd></li>\n",
        "    <li>Once after you found the best hyper parameter, you need to train your model with it, and find the AUC on test data and plot the ROC curve on both train and test.\n",
        "    <img src='https://imgur.com/q2P65L5.jpg' width=300px></li>\n",
        "    <li>Along with plotting ROC curve, you need to print the <a href='https://www.appliedaicourse.com/course/applied-ai-course-online/lessons/confusion-matrix-tpr-fpr-fnr-tnr-1/'>confusion matrix</a> with predicted and original labels of test data points\n",
        "        <img src='https://i.imgur.com/IdN5Ctv.png' width=300px><dd>-plot the confusion matrix in heatmaps, while plotting the confusion matrix go through the <a href='https://stackoverflow.com/questions/61748441/how-to-fix-the-values-displayed-in-a-confusion-matrix-in-exponential-form-to-nor'>link </a>\n",
        "</dd></li>\n",
        "        </ul>\n",
        "<li>find the top 20 features from either from feature <font color='red'>Set 1</font> or feature <font color='red'>Set 2</font> using values of `feature_log_prob_ ` parameter of `MultinomialNB`\n",
        "(https://scikit-learn.org/stable/modules/generated/sklearn.naive_bayes.MultinomialNB.html) and print <strong>BOTH</strong> positive as well as negative corresponding feature names. <dd> - go through the <a href='https://imgur.com/mWvE7gj'>link </a> </dd>\n",
        "    </li>\n",
        "    <li>You need to summarize the results at the end of the notebook, summarize it in the table format\n",
        "        <img src='http://i.imgur.com/YVpIGGE.jpg' width=400px>\n",
        "    </li>\n",
        "</ol>"
      ]
    },
    {
      "cell_type": "markdown",
      "metadata": {
        "id": "inzYCIaib3c3"
      },
      "source": [
        "<h1>2. Naive Bayes </h1>"
      ]
    },
    {
      "cell_type": "code",
      "execution_count": null,
      "metadata": {
        "id": "tJ6s5OBGoaS0"
      },
      "outputs": [],
      "source": [
        "# For this assignment, I have taken multiple references from the internet but the major reference is the 'Reference Notebook (Applying KNN on donors choose dataset)' provided by AAIC\n",
        "# Reference - https://colab.research.google.com/drive/1QE7c9oVfSwQcoLv8pxIqa6b9meiuqNgX\n",
        "\n",
        "# importing required libraries\n",
        "%matplotlib inline\n",
        "import warnings\n",
        "warnings.filterwarnings(\"ignore\")\n",
        "\n",
        "import pandas as pd\n",
        "import numpy as np\n",
        "import matplotlib.pyplot as plt  # for plotting various graphs/plots\n",
        "import seaborn as sns  # for plotting confusion matrix heatmaps\n",
        "from sklearn.feature_extraction.text import TfidfVectorizer  # for TFIDFs calculations\n",
        "from sklearn.feature_extraction.text import CountVectorizer  # for BOW calculations\n",
        "from sklearn.metrics import confusion_matrix\n",
        "from sklearn import metrics\n",
        "from sklearn.metrics import roc_curve, auc\n",
        "from tqdm import tqdm  # progress bar display\n",
        "from chart_studio.plotly import plotly\n",
        "import plotly.offline as offline\n",
        "import plotly.graph_objs as go\n",
        "offline.init_notebook_mode()\n",
        "from collections import Counter"
      ]
    },
    {
      "cell_type": "markdown",
      "metadata": {
        "id": "FYqCIxzFb3c5"
      },
      "source": [
        "## 1.1 Loading Data"
      ]
    },
    {
      "cell_type": "code",
      "execution_count": null,
      "metadata": {
        "colab": {
          "base_uri": "https://localhost:8080/"
        },
        "id": "ztMD7Q1kBol1",
        "outputId": "db5ef6c0-251f-4961-d796-02809f632128"
      },
      "outputs": [
        {
          "name": "stdout",
          "output_type": "stream",
          "text": [
            "Drive already mounted at /content/drive; to attempt to forcibly remount, call drive.mount(\"/content/drive\", force_remount=True).\n"
          ]
        }
      ],
      "source": [
        "# mounting google drive (required csv files are present in the drive)\n",
        "from google.colab import drive\n",
        "drive.mount('/content/drive')"
      ]
    },
    {
      "cell_type": "code",
      "execution_count": null,
      "metadata": {
        "colab": {
          "base_uri": "https://localhost:8080/",
          "height": 472
        },
        "id": "dA1jknyqb3c_",
        "outputId": "1a011d9a-31a6-40a5-9094-02f5149808ad"
      },
      "outputs": [
        {
          "data": {
            "text/html": [
              "<div>\n",
              "<style scoped>\n",
              "    .dataframe tbody tr th:only-of-type {\n",
              "        vertical-align: middle;\n",
              "    }\n",
              "\n",
              "    .dataframe tbody tr th {\n",
              "        vertical-align: top;\n",
              "    }\n",
              "\n",
              "    .dataframe thead th {\n",
              "        text-align: right;\n",
              "    }\n",
              "</style>\n",
              "<table border=\"1\" class=\"dataframe\">\n",
              "  <thead>\n",
              "    <tr style=\"text-align: right;\">\n",
              "      <th></th>\n",
              "      <th>school_state</th>\n",
              "      <th>teacher_prefix</th>\n",
              "      <th>project_grade_category</th>\n",
              "      <th>teacher_number_of_previously_posted_projects</th>\n",
              "      <th>project_is_approved</th>\n",
              "      <th>clean_categories</th>\n",
              "      <th>clean_subcategories</th>\n",
              "      <th>essay</th>\n",
              "      <th>price</th>\n",
              "    </tr>\n",
              "  </thead>\n",
              "  <tbody>\n",
              "    <tr>\n",
              "      <th>0</th>\n",
              "      <td>ca</td>\n",
              "      <td>mrs</td>\n",
              "      <td>grades_prek_2</td>\n",
              "      <td>53</td>\n",
              "      <td>1</td>\n",
              "      <td>math_science</td>\n",
              "      <td>appliedsciences health_lifescience</td>\n",
              "      <td>i fortunate enough use fairy tale stem kits cl...</td>\n",
              "      <td>725.05</td>\n",
              "    </tr>\n",
              "    <tr>\n",
              "      <th>1</th>\n",
              "      <td>ut</td>\n",
              "      <td>ms</td>\n",
              "      <td>grades_3_5</td>\n",
              "      <td>4</td>\n",
              "      <td>1</td>\n",
              "      <td>specialneeds</td>\n",
              "      <td>specialneeds</td>\n",
              "      <td>imagine 8 9 years old you third grade classroo...</td>\n",
              "      <td>213.03</td>\n",
              "    </tr>\n",
              "    <tr>\n",
              "      <th>2</th>\n",
              "      <td>ca</td>\n",
              "      <td>mrs</td>\n",
              "      <td>grades_prek_2</td>\n",
              "      <td>10</td>\n",
              "      <td>1</td>\n",
              "      <td>literacy_language</td>\n",
              "      <td>literacy</td>\n",
              "      <td>having class 24 students comes diverse learner...</td>\n",
              "      <td>329.00</td>\n",
              "    </tr>\n",
              "    <tr>\n",
              "      <th>3</th>\n",
              "      <td>ga</td>\n",
              "      <td>mrs</td>\n",
              "      <td>grades_prek_2</td>\n",
              "      <td>2</td>\n",
              "      <td>1</td>\n",
              "      <td>appliedlearning</td>\n",
              "      <td>earlydevelopment</td>\n",
              "      <td>i recently read article giving students choice...</td>\n",
              "      <td>481.04</td>\n",
              "    </tr>\n",
              "    <tr>\n",
              "      <th>4</th>\n",
              "      <td>wa</td>\n",
              "      <td>mrs</td>\n",
              "      <td>grades_3_5</td>\n",
              "      <td>2</td>\n",
              "      <td>1</td>\n",
              "      <td>literacy_language</td>\n",
              "      <td>literacy</td>\n",
              "      <td>my students crave challenge eat obstacles brea...</td>\n",
              "      <td>17.74</td>\n",
              "    </tr>\n",
              "  </tbody>\n",
              "</table>\n",
              "</div>"
            ],
            "text/plain": [
              "  school_state  ...   price\n",
              "0           ca  ...  725.05\n",
              "1           ut  ...  213.03\n",
              "2           ca  ...  329.00\n",
              "3           ga  ...  481.04\n",
              "4           wa  ...   17.74\n",
              "\n",
              "[5 rows x 9 columns]"
            ]
          },
          "execution_count": 3,
          "metadata": {
            "tags": []
          },
          "output_type": "execute_result"
        }
      ],
      "source": [
        "import pandas\n",
        "data = pandas.read_csv('/content/drive/MyDrive/preprocessed_data.csv', nrows=100000)  # reading the preprocessed data and taking 1 lakh data points for the assignment\n",
        "data.head(5)  # printing first 5 rows of the data"
      ]
    },
    {
      "cell_type": "code",
      "execution_count": null,
      "metadata": {
        "colab": {
          "base_uri": "https://localhost:8080/",
          "height": 144
        },
        "id": "sLt6coELqEcs",
        "outputId": "a89d7ec4-63d0-47e8-d327-c976dbfac115"
      },
      "outputs": [
        {
          "data": {
            "text/html": [
              "<div>\n",
              "<style scoped>\n",
              "    .dataframe tbody tr th:only-of-type {\n",
              "        vertical-align: middle;\n",
              "    }\n",
              "\n",
              "    .dataframe tbody tr th {\n",
              "        vertical-align: top;\n",
              "    }\n",
              "\n",
              "    .dataframe thead th {\n",
              "        text-align: right;\n",
              "    }\n",
              "</style>\n",
              "<table border=\"1\" class=\"dataframe\">\n",
              "  <thead>\n",
              "    <tr style=\"text-align: right;\">\n",
              "      <th></th>\n",
              "      <th>school_state</th>\n",
              "      <th>teacher_prefix</th>\n",
              "      <th>project_grade_category</th>\n",
              "      <th>teacher_number_of_previously_posted_projects</th>\n",
              "      <th>clean_categories</th>\n",
              "      <th>clean_subcategories</th>\n",
              "      <th>essay</th>\n",
              "      <th>price</th>\n",
              "    </tr>\n",
              "  </thead>\n",
              "  <tbody>\n",
              "    <tr>\n",
              "      <th>0</th>\n",
              "      <td>ca</td>\n",
              "      <td>mrs</td>\n",
              "      <td>grades_prek_2</td>\n",
              "      <td>53</td>\n",
              "      <td>math_science</td>\n",
              "      <td>appliedsciences health_lifescience</td>\n",
              "      <td>i fortunate enough use fairy tale stem kits cl...</td>\n",
              "      <td>725.05</td>\n",
              "    </tr>\n",
              "    <tr>\n",
              "      <th>1</th>\n",
              "      <td>ut</td>\n",
              "      <td>ms</td>\n",
              "      <td>grades_3_5</td>\n",
              "      <td>4</td>\n",
              "      <td>specialneeds</td>\n",
              "      <td>specialneeds</td>\n",
              "      <td>imagine 8 9 years old you third grade classroo...</td>\n",
              "      <td>213.03</td>\n",
              "    </tr>\n",
              "  </tbody>\n",
              "</table>\n",
              "</div>"
            ],
            "text/plain": [
              "  school_state  ...   price\n",
              "0           ca  ...  725.05\n",
              "1           ut  ...  213.03\n",
              "\n",
              "[2 rows x 8 columns]"
            ]
          },
          "execution_count": 4,
          "metadata": {
            "tags": []
          },
          "output_type": "execute_result"
        }
      ],
      "source": [
        "y = data['project_is_approved'].values  # storing y labels (0 or 1) of the data in the variable 'y'\n",
        "X = data.drop(['project_is_approved'], axis=1)  # removing the y labels corresponding column from the dataset\n",
        "X.head(2)"
      ]
    },
    {
      "cell_type": "markdown",
      "metadata": {
        "id": "WtVV13Fyb3dH"
      },
      "source": [
        "<h2>1.2 Splitting data into Train and cross validation(or test): Stratified Sampling</h2>"
      ]
    },
    {
      "cell_type": "code",
      "execution_count": null,
      "metadata": {
        "colab": {
          "base_uri": "https://localhost:8080/"
        },
        "id": "i-PyprDNb3dI",
        "outputId": "3e990c76-602f-4324-f1d1-9661ae535b74"
      },
      "outputs": [
        {
          "name": "stdout",
          "output_type": "stream",
          "text": [
            "(44890, 8)\n",
            "(22110, 8)\n",
            "(33000, 8)\n"
          ]
        }
      ],
      "source": [
        "from sklearn.model_selection import train_test_split  # for spliting the data into train data, cv data, test data\n",
        "# splitting 1 lakh points into 67k training points and 33k test points\n",
        "X_train, X_test, y_train, y_test = train_test_split(X, y, test_size=0.33, stratify=y)  # stratify=y will result in preservation of the proportions of the examples observed in original data, even in splitted data\n",
        "# splitting 67k training points into 44890 final train points and 22110 cv points\n",
        "X_train, X_cv, y_train, y_cv = train_test_split(X_train, y_train, test_size=0.33, stratify=y_train)  # reference for stratify - https://scikit-learn.org/stable/modules/generated/sklearn.model_selection.train_test_split.html\n",
        "print(X_train.shape) # length of train data points\n",
        "print(X_cv.shape) # length of cv data points\n",
        "print(X_test.shape) # length of test data points"
      ]
    },
    {
      "cell_type": "markdown",
      "metadata": {
        "id": "EnZwVNULb3dO"
      },
      "source": [
        "<h2>1.3 Make Data Model Ready: encoding essay</h2>"
      ]
    },
    {
      "cell_type": "markdown",
      "metadata": {
        "id": "QxAo5F5LuLKh"
      },
      "source": [
        "<h3>A] BOW representation</h3>"
      ]
    },
    {
      "cell_type": "code",
      "execution_count": null,
      "metadata": {
        "colab": {
          "base_uri": "https://localhost:8080/"
        },
        "id": "-SczZKiab3dR",
        "outputId": "a2672a8e-740e-4d79-b79c-45765e292945"
      },
      "outputs": [
        {
          "name": "stdout",
          "output_type": "stream",
          "text": [
            "(44890, 8) (44890,)\n",
            "(22110, 8) (22110,)\n",
            "(33000, 8) (33000,)\n",
            "====================================================================================================\n",
            "After Bag of Words vectorization - \n",
            "(44890, 5000) (44890,)\n",
            "(22110, 5000) (22110,)\n",
            "(33000, 5000) (33000,)\n",
            "====================================================================================================\n"
          ]
        }
      ],
      "source": [
        "# printing the shape of the data before BOW vectorization\n",
        "print(X_train.shape, y_train.shape)\n",
        "print(X_cv.shape, y_cv.shape)\n",
        "print(X_test.shape, y_test.shape)\n",
        "\n",
        "print('='*100)\n",
        "# BOW vectorization(fit() and transform() methods used)\n",
        "# CountVectorizer() used for BOW\n",
        "# reference - https://scikit-learn.org/stable/modules/generated/sklearn.feature_extraction.text.CountVectorizer.html\n",
        "# min_df=10 means consider only those words which appeared in atleast 10 documents/rows\n",
        "# ngram_range is set from 1 to 4 which means minimum 1 word should be there and maximum 4 words are allowed\n",
        "# number of features is set to 5000 max\n",
        "vectorizer = CountVectorizer(min_df=10, ngram_range=(1,4), max_features=5000)\n",
        "vectorizer.fit(X_train['essay'].values)  # fit() learns the vocabulary of text # so fit() is used only for train data\n",
        "\n",
        "# transform() will apply learned parameters from fit() function to the data and give output(words in BOW format)\n",
        "# so transform() function can be used for train,cv,test data as there is no learning involved\n",
        "bow_X_train_essay = vectorizer.transform(X_train['essay'].values)\n",
        "bow_X_cv_essay = vectorizer.transform(X_cv['essay'].values)\n",
        "bow_X_test_essay = vectorizer.transform(X_test['essay'].values)\n",
        "\n",
        "# printing the shape of the data after BOW vectorization\n",
        "print('After Bag of Words vectorization - ')\n",
        "print(bow_X_train_essay.shape, y_train.shape)\n",
        "print(bow_X_cv_essay.shape, y_cv.shape)\n",
        "print(bow_X_test_essay.shape, y_test.shape)\n",
        "\n",
        "print('='*100)"
      ]
    },
    {
      "cell_type": "markdown",
      "metadata": {
        "id": "cozz8i89226G"
      },
      "source": [
        "<h3>B] TFIDF representation</h3>"
      ]
    },
    {
      "cell_type": "code",
      "execution_count": null,
      "metadata": {
        "colab": {
          "base_uri": "https://localhost:8080/"
        },
        "id": "Ompbk4WI20hI",
        "outputId": "ad1d3b9b-1302-423c-cbc1-031253230528"
      },
      "outputs": [
        {
          "name": "stdout",
          "output_type": "stream",
          "text": [
            "(44890, 8) (44890,)\n",
            "(22110, 8) (22110,)\n",
            "(33000, 8) (33000,)\n",
            "====================================================================================================\n",
            "After TFIDF vectorization - \n",
            "(44890, 5000) (44890,)\n",
            "(22110, 5000) (22110,)\n",
            "(33000, 5000) (33000,)\n",
            "====================================================================================================\n"
          ]
        }
      ],
      "source": [
        "# printing the shape of the data before TFIDF vectorization\n",
        "print(X_train.shape, y_train.shape)\n",
        "print(X_cv.shape, y_cv.shape)\n",
        "print(X_test.shape, y_test.shape)\n",
        "\n",
        "print('='*100)\n",
        "# TFIDF vectorization(fit() and transform() methods used)\n",
        "# TfidfVectorizer() used for TFIDF\n",
        "# reference - https://scikit-learn.org/stable/modules/generated/sklearn.feature_extraction.text.TfidfVectorizer.html\n",
        "# min_df=10 means consider only those words which appeared in atleast 10 documents/rows\n",
        "# number of features is set to 5000 max\n",
        "tfidf_vectorizer = TfidfVectorizer(min_df=10, max_features=5000)\n",
        "tfidf_vectorizer.fit(X_train['essay'].values)  # fit() learns the vocabulary of text # so fit() is used only for train data\n",
        "\n",
        "# transform() will apply learned parameters from fit() function to the data and give output(words in tfidf format)\n",
        "# so transform() function can be used for train,cv,test data as there is no learning involved\n",
        "tfidf_X_train_essay = tfidf_vectorizer.transform(X_train['essay'].values)\n",
        "tfidf_X_cv_essay = tfidf_vectorizer.transform(X_cv['essay'].values)\n",
        "tfidf_X_test_essay = tfidf_vectorizer.transform(X_test['essay'].values)\n",
        "\n",
        "# printing the shape of the data after TFIDF vectorization\n",
        "print('After TFIDF vectorization - ')\n",
        "print(tfidf_X_train_essay.shape, y_train.shape)\n",
        "print(tfidf_X_cv_essay.shape, y_cv.shape)\n",
        "print(tfidf_X_test_essay.shape, y_test.shape)\n",
        "\n",
        "print('='*100)"
      ]
    },
    {
      "cell_type": "markdown",
      "metadata": {
        "id": "bGy86kgHb3dX"
      },
      "source": [
        "<h2>1.4 Make Data Model Ready: encoding numerical features</h2>"
      ]
    },
    {
      "cell_type": "markdown",
      "metadata": {
        "id": "7diwQTBR5cSm"
      },
      "source": [
        "<h3>A] Encoding numerical features - price</h3>"
      ]
    },
    {
      "cell_type": "code",
      "execution_count": null,
      "metadata": {
        "colab": {
          "base_uri": "https://localhost:8080/"
        },
        "id": "EfXkofX1b3da",
        "outputId": "6cb735c1-f71c-4759-a637-a5e0573e837c"
      },
      "outputs": [
        {
          "name": "stdout",
          "output_type": "stream",
          "text": [
            "After price vectorization - \n",
            "(44890, 1) (44890,)\n",
            "(22110, 1) (22110,)\n",
            "(33000, 1) (33000,)\n",
            "====================================================================================================\n"
          ]
        }
      ],
      "source": [
        "# reference - https://scikit-learn.org/stable/modules/generated/sklearn.preprocessing.Normalizer.html\n",
        "from sklearn.preprocessing import Normalizer  # to normalize the data values in between 0 to 1\n",
        "normalizer_price = Normalizer()\n",
        "# fit() function does nothing here\n",
        "normalizer_price.fit(X_train['price'].values.reshape(1,-1))  # reshaping of the data is done to avoid an error(expected 2D array, got 1D array instead)\n",
        "# reshape(-1,1) not used because it returns [[1],[1],[1],.....] instead of giving values between 0 to 1  # reference - https://imgur.com/ldZA1zg\n",
        "\n",
        "# transform() scales each non zero row of the data to unit form(1) i.e. making values of the data cell ranging between 0 to 1\n",
        "price_norm_X_train = normalizer_price.transform(X_train['price'].values.reshape(1,-1))\n",
        "price_norm_X_cv = normalizer_price.transform(X_cv['price'].values.reshape(1,-1))\n",
        "price_norm_X_test = normalizer_price.transform(X_test['price'].values.reshape(1,-1))\n",
        "\n",
        "# after normalization is done, reshape(1,-1) to (-1,1), to avoid the shape mismatch problem\n",
        "# reference - https://ac-classroom-production.s3.amazonaws.com/public/COMMENT/Annotation_2020-05-21_225912_0lyZzN8.jpg\n",
        "price_norm_X_train = price_norm_X_train.reshape(-1,1)\n",
        "price_norm_X_cv = price_norm_X_cv.reshape(-1,1)\n",
        "price_norm_X_test = price_norm_X_test.reshape(-1,1)\n",
        "\n",
        "# printing the shape of the data after price vectorization\n",
        "print('After price vectorization - ')\n",
        "print(price_norm_X_train.shape, y_train.shape)\n",
        "print(price_norm_X_cv.shape, y_cv.shape)\n",
        "print(price_norm_X_test.shape, y_test.shape)\n",
        "print('='*100)"
      ]
    },
    {
      "cell_type": "markdown",
      "metadata": {
        "id": "voXtvln85p9V"
      },
      "source": [
        "<h3>B] Encoding numerical features - teacher_number_of_previously_posted_projects</h3>"
      ]
    },
    {
      "cell_type": "code",
      "execution_count": null,
      "metadata": {
        "colab": {
          "base_uri": "https://localhost:8080/"
        },
        "id": "1YlSkqdJ50zu",
        "outputId": "87019332-c2f0-4a44-c3c7-d073f26ee8a0"
      },
      "outputs": [
        {
          "name": "stdout",
          "output_type": "stream",
          "text": [
            "After teacher_number_of_previously_posted_projects vectorization - \n",
            "(44890, 1) (44890,)\n",
            "(22110, 1) (22110,)\n",
            "(33000, 1) (33000,)\n",
            "====================================================================================================\n"
          ]
        }
      ],
      "source": [
        "# reference - https://scikit-learn.org/stable/modules/generated/sklearn.preprocessing.Normalizer.html\n",
        "normalizer_project = Normalizer() # to normalize the data values in between 0 to 1\n",
        "# fit() function does nothing here\n",
        "normalizer_project.fit(X_train['teacher_number_of_previously_posted_projects'].values.reshape(1,-1)) # reshaping of the data is done to avoid an error(expected 2D array, got 1D array instead)\n",
        "# reshape(-1,1) not used because it returns [[1],[1],[1],.....] instead of giving values between 0 to 1  # reference - https://imgur.com/ldZA1zg\n",
        "\n",
        "# transform() scales each non zero row of the data to unit form(1) i.e. making values of the data cell ranging between 0 to 1\n",
        "project_norm_X_train = normalizer_project.transform(X_train['teacher_number_of_previously_posted_projects'].values.reshape(1,-1))\n",
        "project_norm_X_cv = normalizer_project.transform(X_cv['teacher_number_of_previously_posted_projects'].values.reshape(1,-1))\n",
        "project_norm_X_test = normalizer_project.transform(X_test['teacher_number_of_previously_posted_projects'].values.reshape(1,-1))\n",
        "\n",
        "# after normalization is done, reshape(1,-1) to (-1,1), to avoid the shape mismatch problem\n",
        "# reference - https://ac-classroom-production.s3.amazonaws.com/public/COMMENT/Annotation_2020-05-21_225912_0lyZzN8.jpg\n",
        "project_norm_X_train = project_norm_X_train.reshape(-1,1)\n",
        "project_norm_X_cv = project_norm_X_cv.reshape(-1,1)\n",
        "project_norm_X_test = project_norm_X_test.reshape(-1,1)\n",
        "\n",
        "# printing the shape of the data after teacher_number_of_previously_posted_projects vectorization\n",
        "print('After teacher_number_of_previously_posted_projects vectorization - ')\n",
        "print(project_norm_X_train.shape, y_train.shape)\n",
        "print(project_norm_X_cv.shape, y_cv.shape)\n",
        "print(project_norm_X_test.shape, y_test.shape)\n",
        "print('='*100)"
      ]
    },
    {
      "cell_type": "markdown",
      "metadata": {
        "id": "UBUVjiup4VSG"
      },
      "source": [
        "<h2>1.5 Make Data Model Ready: encoding categorical features</h2>"
      ]
    },
    {
      "cell_type": "markdown",
      "metadata": {
        "id": "VHECaH-7Arns"
      },
      "source": [
        "<h3>A] Encoding categorical features - teacher_prefix</h3>"
      ]
    },
    {
      "cell_type": "code",
      "execution_count": null,
      "metadata": {
        "colab": {
          "base_uri": "https://localhost:8080/"
        },
        "id": "qYOoE0Ld4cyH",
        "outputId": "e01ee869-0376-4547-9e59-ace85f910850"
      },
      "outputs": [
        {
          "name": "stdout",
          "output_type": "stream",
          "text": [
            "After teacher_prefix vectorization - \n",
            "(44890, 5) (44890,)\n",
            "(22110, 5) (22110,)\n",
            "(33000, 5) (33000,)\n",
            "['dr', 'mr', 'mrs', 'ms', 'teacher']\n",
            "====================================================================================================\n"
          ]
        }
      ],
      "source": [
        "# CountVectorizer() - converts texts to vector of token/word counts\n",
        "# reference - https://scikit-learn.org/stable/modules/generated/sklearn.feature_extraction.text.CountVectorizer.html\n",
        "teacher_vectorizer = CountVectorizer()\n",
        "teacher_vectorizer.fit(X_train['teacher_prefix'].values)  # fit() learns the vocabulary of text # so fit() is used only for train data\n",
        "\n",
        "# transform() will apply learned parameters from fit() function to the data and give output\n",
        "# so transform() function can be used for train,cv,test data as there is no learning involved\n",
        "teacher_pre_X_train = teacher_vectorizer.transform(X_train['teacher_prefix'].values)\n",
        "teacher_pre_X_cv = teacher_vectorizer.transform(X_cv['teacher_prefix'].values)\n",
        "teacher_pre_X_test = teacher_vectorizer.transform(X_test['teacher_prefix'].values)\n",
        "\n",
        "# printing the shape of the data after teacher_prefix vectorization\n",
        "print('After teacher_prefix vectorization - ')\n",
        "print(teacher_pre_X_train.shape, y_train.shape)\n",
        "print(teacher_pre_X_cv.shape, y_cv.shape)\n",
        "print(teacher_pre_X_test.shape, y_test.shape)\n",
        "print(teacher_vectorizer.get_feature_names())  # printing feature names present in teacher_prefix\n",
        "print('='*100)"
      ]
    },
    {
      "cell_type": "markdown",
      "metadata": {
        "id": "sqR2b28WBQxj"
      },
      "source": [
        "<h3>B] Encoding categorical features - project_grade_category</h3>"
      ]
    },
    {
      "cell_type": "code",
      "execution_count": null,
      "metadata": {
        "colab": {
          "base_uri": "https://localhost:8080/"
        },
        "id": "W2ymbvR2BdPb",
        "outputId": "178f6b31-c399-499a-e886-fc55b6fabbe4"
      },
      "outputs": [
        {
          "name": "stdout",
          "output_type": "stream",
          "text": [
            "After project_grade_category vectorization - \n",
            "(44890, 4) (44890,)\n",
            "(22110, 4) (22110,)\n",
            "(33000, 4) (33000,)\n",
            "['grades_3_5', 'grades_6_8', 'grades_9_12', 'grades_prek_2']\n",
            "====================================================================================================\n"
          ]
        }
      ],
      "source": [
        "# CountVectorizer() - converts texts to vector of token/word counts\n",
        "# reference - https://scikit-learn.org/stable/modules/generated/sklearn.feature_extraction.text.CountVectorizer.html\n",
        "project_grade_vectorizer = CountVectorizer()\n",
        "project_grade_vectorizer.fit(X_train['project_grade_category'].values) # fit() learns the vocabulary of text # so fit() is used only for train data\n",
        "\n",
        "# transform() will apply learned parameters from fit() function to the data and give output\n",
        "# so transform() function can be used for train,cv,test data as there is no learning involved\n",
        "project_grade_X_train = project_grade_vectorizer.transform(X_train['project_grade_category'].values)\n",
        "project_grade_X_cv = project_grade_vectorizer.transform(X_cv['project_grade_category'].values)\n",
        "project_grade_X_test = project_grade_vectorizer.transform(X_test['project_grade_category'].values)\n",
        "\n",
        "# printing the shape of the data after project_grade_category vectorization\n",
        "print('After project_grade_category vectorization - ')\n",
        "print(project_grade_X_train.shape, y_train.shape)\n",
        "print(project_grade_X_cv.shape, y_cv.shape)\n",
        "print(project_grade_X_test.shape, y_test.shape)\n",
        "print(project_grade_vectorizer.get_feature_names())  # printing feature names present in project_grade_category\n",
        "print('='*100)"
      ]
    },
    {
      "cell_type": "markdown",
      "metadata": {
        "id": "KzlZhS3QBdmj"
      },
      "source": [
        "<h3>C] Encoding categorical features - school_state</h3>"
      ]
    },
    {
      "cell_type": "code",
      "execution_count": null,
      "metadata": {
        "colab": {
          "base_uri": "https://localhost:8080/"
        },
        "id": "WI9SBuvmBl4K",
        "outputId": "19af397c-4245-4143-94a4-01592231824b"
      },
      "outputs": [
        {
          "name": "stdout",
          "output_type": "stream",
          "text": [
            "After school_state vectorization - \n",
            "(44890, 51) (44890,)\n",
            "(22110, 51) (22110,)\n",
            "(33000, 51) (33000,)\n",
            "['ak', 'al', 'ar', 'az', 'ca', 'co', 'ct', 'dc', 'de', 'fl', 'ga', 'hi', 'ia', 'id', 'il', 'in', 'ks', 'ky', 'la', 'ma', 'md', 'me', 'mi', 'mn', 'mo', 'ms', 'mt', 'nc', 'nd', 'ne', 'nh', 'nj', 'nm', 'nv', 'ny', 'oh', 'ok', 'or', 'pa', 'ri', 'sc', 'sd', 'tn', 'tx', 'ut', 'va', 'vt', 'wa', 'wi', 'wv', 'wy']\n",
            "====================================================================================================\n"
          ]
        }
      ],
      "source": [
        "# CountVectorizer() - converts texts to vector of token/word counts\n",
        "# reference - https://scikit-learn.org/stable/modules/generated/sklearn.feature_extraction.text.CountVectorizer.html\n",
        "school_state_vectorizer = CountVectorizer()\n",
        "school_state_vectorizer.fit(X_train['school_state'].values) # fit() learns the vocabulary of text # so fit() is used only for train data\n",
        "\n",
        "# transform() will apply learned parameters from fit() function to the data and give output\n",
        "# so transform() function can be used for train,cv,test data as there is no learning involved\n",
        "school_state_X_train = school_state_vectorizer.transform(X_train['school_state'].values)\n",
        "school_state_X_cv = school_state_vectorizer.transform(X_cv['school_state'].values)\n",
        "school_state_X_test = school_state_vectorizer.transform(X_test['school_state'].values)\n",
        "\n",
        "# printing the shape of the data after school_state vectorization\n",
        "print('After school_state vectorization - ')\n",
        "print(school_state_X_train.shape, y_train.shape)\n",
        "print(school_state_X_cv.shape, y_cv.shape)\n",
        "print(school_state_X_test.shape, y_test.shape)\n",
        "print(school_state_vectorizer.get_feature_names()) # printing feature names present in school_state\n",
        "print('='*100)"
      ]
    },
    {
      "cell_type": "markdown",
      "metadata": {
        "id": "2RIXYEE4BmRq"
      },
      "source": [
        "<h3>D] Encoding categorical features - clean_categories</h3>"
      ]
    },
    {
      "cell_type": "code",
      "execution_count": null,
      "metadata": {
        "colab": {
          "base_uri": "https://localhost:8080/"
        },
        "id": "zj39uU_rBueC",
        "outputId": "13ff4297-2fa2-4984-b2b7-966bf189ad75"
      },
      "outputs": [
        {
          "name": "stdout",
          "output_type": "stream",
          "text": [
            "After clean_categories vectorization - \n",
            "(44890, 9) (44890,)\n",
            "(22110, 9) (22110,)\n",
            "(33000, 9) (33000,)\n",
            "['appliedlearning', 'care_hunger', 'health_sports', 'history_civics', 'literacy_language', 'math_science', 'music_arts', 'specialneeds', 'warmth']\n",
            "====================================================================================================\n"
          ]
        }
      ],
      "source": [
        "# CountVectorizer() - converts texts to vector of token/word counts\n",
        "# reference - https://scikit-learn.org/stable/modules/generated/sklearn.feature_extraction.text.CountVectorizer.html\n",
        "clean_categories_vectorizer = CountVectorizer()\n",
        "clean_categories_vectorizer.fit(X_train['clean_categories'].values) # fit() learns the vocabulary of text # so fit() is used only for train data\n",
        "\n",
        "# transform() will apply learned parameters from fit() function to the data and give output\n",
        "# so transform() function can be used for train,cv,test data as there is no learning involved\n",
        "clean_categories_X_train = clean_categories_vectorizer.transform(X_train['clean_categories'].values)\n",
        "clean_categories_X_cv = clean_categories_vectorizer.transform(X_cv['clean_categories'].values)\n",
        "clean_categories_X_test = clean_categories_vectorizer.transform(X_test['clean_categories'].values)\n",
        "\n",
        "# printing the shape of the data after clean_categories vectorization\n",
        "print('After clean_categories vectorization - ')\n",
        "print(clean_categories_X_train.shape, y_train.shape)\n",
        "print(clean_categories_X_cv.shape, y_cv.shape)\n",
        "print(clean_categories_X_test.shape, y_test.shape)\n",
        "print(clean_categories_vectorizer.get_feature_names()) # printing feature names present in clean_categories\n",
        "print('='*100)"
      ]
    },
    {
      "cell_type": "markdown",
      "metadata": {
        "id": "8c4XKTcpBus7"
      },
      "source": [
        "<h3>E] Encoding categorical features - clean_subcategories</h3>"
      ]
    },
    {
      "cell_type": "code",
      "execution_count": null,
      "metadata": {
        "colab": {
          "base_uri": "https://localhost:8080/"
        },
        "id": "PIpb-u63Bz17",
        "outputId": "ca972ed1-2d83-4b94-d9bb-87693949b0c1"
      },
      "outputs": [
        {
          "name": "stdout",
          "output_type": "stream",
          "text": [
            "After clean_subcategories vectorization - \n",
            "(44890, 30) (44890,)\n",
            "(22110, 30) (22110,)\n",
            "(33000, 30) (33000,)\n",
            "['appliedsciences', 'care_hunger', 'charactereducation', 'civics_government', 'college_careerprep', 'communityservice', 'earlydevelopment', 'economics', 'environmentalscience', 'esl', 'extracurricular', 'financialliteracy', 'foreignlanguages', 'gym_fitness', 'health_lifescience', 'health_wellness', 'history_geography', 'literacy', 'literature_writing', 'mathematics', 'music', 'nutritioneducation', 'other', 'parentinvolvement', 'performingarts', 'socialsciences', 'specialneeds', 'teamsports', 'visualarts', 'warmth']\n",
            "====================================================================================================\n"
          ]
        }
      ],
      "source": [
        "# CountVectorizer() - converts texts to vector of token/word counts\n",
        "# reference - https://scikit-learn.org/stable/modules/generated/sklearn.feature_extraction.text.CountVectorizer.html\n",
        "clean_subcategories_vectorizer = CountVectorizer()\n",
        "clean_subcategories_vectorizer.fit(X_train['clean_subcategories'].values) # fit() learns the vocabulary of text # so fit() is used only for train data\n",
        "\n",
        "# transform() will apply learned parameters from fit() function to the data and give output\n",
        "# so transform() function can be used for train,cv,test data as there is no learning involved\n",
        "clean_subcategories_X_train = clean_subcategories_vectorizer.transform(X_train['clean_subcategories'].values)\n",
        "clean_subcategories_X_cv = clean_subcategories_vectorizer.transform(X_cv['clean_subcategories'].values)\n",
        "clean_subcategories_X_test = clean_subcategories_vectorizer.transform(X_test['clean_subcategories'].values)\n",
        "\n",
        "# printing the shape of the data after clean_subcategories vectorization\n",
        "print('After clean_subcategories vectorization - ')\n",
        "print(clean_subcategories_X_train.shape, y_train.shape)\n",
        "print(clean_subcategories_X_cv.shape, y_cv.shape)\n",
        "print(clean_subcategories_X_test.shape, y_test.shape)\n",
        "print(clean_subcategories_vectorizer.get_feature_names()) # printing feature names present in clean_subcategories\n",
        "print('='*100)"
      ]
    },
    {
      "cell_type": "markdown",
      "metadata": {
        "id": "JuVw8eVNLWPw"
      },
      "source": [
        "<h2>1.6 Concatenating all the features</h2>"
      ]
    },
    {
      "cell_type": "markdown",
      "metadata": {
        "id": "Ctl1lQ0_Li__"
      },
      "source": [
        "<h3>A] Concatenation for Set 1 - categorical, numerical features + preprocessed_essay (BOW)</h3>"
      ]
    },
    {
      "cell_type": "code",
      "execution_count": null,
      "metadata": {
        "colab": {
          "base_uri": "https://localhost:8080/"
        },
        "id": "ScJiYHCsL0s3",
        "outputId": "076ec397-1f23-4acb-b4c8-848a7a8cb0d7"
      },
      "outputs": [
        {
          "name": "stdout",
          "output_type": "stream",
          "text": [
            "Final Data Matrix for Set 1 - \n",
            "(44890, 5101) (44890,)\n",
            "(22110, 5101) (22110,)\n",
            "(33000, 5101) (33000,)\n",
            "====================================================================================================\n"
          ]
        }
      ],
      "source": [
        "# hstack() used to stack sparse matrices horizontally (column wise)\n",
        "# reference - https://docs.scipy.org/doc/scipy/reference/generated/scipy.sparse.hstack.html\n",
        "from scipy.sparse import hstack\n",
        "# for train data\n",
        "X_train_s1 = hstack((bow_X_train_essay, price_norm_X_train, project_norm_X_train, teacher_pre_X_train, project_grade_X_train, school_state_X_train, clean_categories_X_train, clean_subcategories_X_train)).tocsr()\n",
        "# for cross validation data\n",
        "X_cv_s1 = hstack((bow_X_cv_essay, price_norm_X_cv, project_norm_X_cv, teacher_pre_X_cv, project_grade_X_cv, school_state_X_cv, clean_categories_X_cv, clean_subcategories_X_cv)).tocsr()\n",
        "# for test data\n",
        "X_test_s1 = hstack((bow_X_test_essay, price_norm_X_test, project_norm_X_test, teacher_pre_X_test, project_grade_X_test, school_state_X_test, clean_categories_X_test, clean_subcategories_X_test)).tocsr()\n",
        "\n",
        "# printing the stacked matrix for train,cv,test data (all the features stacked for Set 1)\n",
        "print('Final Data Matrix for Set 1 - ')\n",
        "print(X_train_s1.shape, y_train.shape)\n",
        "print(X_cv_s1.shape, y_cv.shape)\n",
        "print(X_test_s1.shape, y_test.shape)\n",
        "print('='*100)"
      ]
    },
    {
      "cell_type": "markdown",
      "metadata": {
        "id": "oDXEj-vdL1Gm"
      },
      "source": [
        "<h3>B] Concatenation for Set 2 - categorical, numerical features + preprocessed_essay (TFIDF)</h3>"
      ]
    },
    {
      "cell_type": "code",
      "execution_count": null,
      "metadata": {
        "colab": {
          "base_uri": "https://localhost:8080/"
        },
        "id": "-xR9OlAYL1Vv",
        "outputId": "0cfcf250-cc71-41f2-9984-ca13cf373078"
      },
      "outputs": [
        {
          "name": "stdout",
          "output_type": "stream",
          "text": [
            "Final Data Matrix for Set 2 - \n",
            "(44890, 5101) (44890,)\n",
            "(22110, 5101) (22110,)\n",
            "(33000, 5101) (33000,)\n",
            "====================================================================================================\n"
          ]
        }
      ],
      "source": [
        "# hstack() used to stack sparse matrices horizontally (column wise)\n",
        "# reference - https://docs.scipy.org/doc/scipy/reference/generated/scipy.sparse.hstack.html\n",
        "from scipy.sparse import hstack\n",
        "# for train data\n",
        "X_train_s2 = hstack((tfidf_X_train_essay, price_norm_X_train, project_norm_X_train, teacher_pre_X_train, project_grade_X_train, school_state_X_train, clean_categories_X_train, clean_subcategories_X_train)).tocsr()\n",
        "# for cv data\n",
        "X_cv_s2 = hstack((tfidf_X_cv_essay, price_norm_X_cv, project_norm_X_cv, teacher_pre_X_cv, project_grade_X_cv, school_state_X_cv, clean_categories_X_cv, clean_subcategories_X_cv)).tocsr()\n",
        "# for test data\n",
        "X_test_s2 = hstack((tfidf_X_test_essay, price_norm_X_test, project_norm_X_test, teacher_pre_X_test, project_grade_X_test, school_state_X_test, clean_categories_X_test, clean_subcategories_X_test)).tocsr()\n",
        "\n",
        "# printing the stacked matrix for train,cv,test data (all the features stacked for Set 2)\n",
        "print('Final Data Matrix for Set 2 - ')\n",
        "print(X_train_s2.shape, y_train.shape)\n",
        "print(X_cv_s2.shape, y_cv.shape)\n",
        "print(X_test_s2.shape, y_test.shape)\n",
        "print('='*100)"
      ]
    },
    {
      "cell_type": "markdown",
      "metadata": {
        "id": "yYHPYadYb3dh"
      },
      "source": [
        "<h2>1.7 Appling NB on different kind of featurization as mentioned in the instructions</h2>\n",
        "\n",
        "<br>Apply NB on different kind of featurization as mentioned in the instructions\n",
        "<br> For Every model that you work on make sure you do the step 2 and step 3 of instrucations"
      ]
    },
    {
      "cell_type": "markdown",
      "metadata": {
        "id": "hO5exb5lRmD-"
      },
      "source": [
        "<h3>A] Applying Naive Bayes on Set 1 - categorical, numerical features + preprocessed_essay (BOW)</h3>"
      ]
    },
    {
      "cell_type": "code",
      "execution_count": null,
      "metadata": {
        "id": "DNwqilFxb3di"
      },
      "outputs": [],
      "source": [
        "# batch_predict() function defined for batchwise prediction of data. Data is divided into batches of size 1000\n",
        "def batch_predict(classifier, data):  # classifier will be MultinomialNB() and data will be either of set 1 or set 2\n",
        "  predicted_probas_positive = []  # empty list to store predicted probability values of positive class(y=1)\n",
        "  data_loop = data.shape[0] - data.shape[0]%1000 # data_loop value obtained will be a 1000 multiplier\n",
        "  for i in range(0, data_loop, 1000): # looping through all the data  points till max 1000 multiplier\n",
        "    predicted_probas_positive.extend(classifier.predict_proba(data[i:i+1000])[:,1])  # extend() add all the elements to the end of the list # [:,1] returns predicted probabilty of positive class\n",
        "  if data.shape[0]%1000 != 0:  # for the remaining data points\n",
        "    predicted_probas_positive.extend(classifier.predict_proba(data[data_loop:])[:,1]) # extend() reference - https://www.programiz.com/python-programming/methods/list/extend#:~:text=List%20index()-,Python%20List%20extend(),the%20end%20of%20the%20list.&text=Here%2C%20all%20the%20elements%20of,to%20the%20end%20of%20list1%20.\n",
        "\n",
        "  return predicted_probas_positive"
      ]
    },
    {
      "cell_type": "markdown",
      "metadata": {
        "id": "0MVsD_-TdJCR"
      },
      "source": [
        "**1.7.1 Hyperparameter tuning methods(here hyperparameter is alpha)**"
      ]
    },
    {
      "cell_type": "markdown",
      "metadata": {
        "id": "vpQZ42WldUz4"
      },
      "source": [
        "*Method 1 : Simple For loop*"
      ]
    },
    {
      "cell_type": "code",
      "execution_count": null,
      "metadata": {
        "colab": {
          "base_uri": "https://localhost:8080/",
          "height": 654
        },
        "id": "5mHwqFaFd2iG",
        "outputId": "c5584642-32ad-4d42-bbad-16992d47255d"
      },
      "outputs": [
        {
          "name": "stderr",
          "output_type": "stream",
          "text": [
            "100%|██████████| 9/9 [00:02<00:00,  3.68it/s]\n",
            "100%|██████████| 9/9 [00:00<00:00, 44992.53it/s]\n"
          ]
        },
        {
          "data": {
            "image/png": "[encoded data removed]",
            "text/plain": [
              "<Figure size 720x720 with 1 Axes>"
            ]
          },
          "metadata": {
            "needs_background": "light",
            "tags": []
          },
          "output_type": "display_data"
        }
      ],
      "source": [
        "# importing required libraries\n",
        "from sklearn.naive_bayes import MultinomialNB  # MultinomialNB() classifier\n",
        "from sklearn.metrics import roc_auc_score  # to calculate score of roc-auc curve\n",
        "import math  # to find log of value\n",
        "\n",
        "train_auc = []  # empty list to store auc score of train data\n",
        "cv_auc = []  # empty list to store auc score of cv data\n",
        "log_of_alphas = []  # empty list to store lof of alpha values provided\n",
        "\n",
        "alpha_values = [0.00001, 0.0001, 0.001, 0.01, 0.1, 1, 10,  100,  1000]  # α values from 10⁻⁵ to 10³\n",
        "\n",
        "for i in tqdm(alpha_values):  # looping through the α values  # tqdm used to show the progress bar of for loop\n",
        "  multi_nb = MultinomialNB(alpha = i, class_prior=[0.5,0.5])  # class_prior - prior probabilities of the classes # reference - https://scikit-learn.org/stable/modules/generated/sklearn.naive_bayes.MultinomialNB.html\n",
        "  multi_nb.fit(X_train_s1, y_train)  # fitting on set 1 training data\n",
        "  y_train_predict = batch_predict(multi_nb, X_train_s1)  # batchwise prediction for set 1 train data\n",
        "  y_cv_predict = batch_predict(multi_nb, X_cv_s1)  # batchwise prediction for set 1 cv data\n",
        "\n",
        "  # roc_auc_score(y_true, y_score) the 2nd parameter should be probability estimates of the positive class\n",
        "  # not the predicted outputs\n",
        "  train_auc.append(roc_auc_score(y_train, y_train_predict))  # storing the auc score in train_auc list\n",
        "  cv_auc.append(roc_auc_score(y_cv, y_cv_predict))  # storing the auc score in cv_auc list\n",
        "\n",
        "for j in tqdm(alpha_values):  # looping through the α values  # tqdm used to show the progress bar of for loop\n",
        "  k = math.log(j) # taking log value of α values as the range of α values is huge and we need to plot all of them\n",
        "  log_of_alphas.append(k)  # storing log of α values in the list\n",
        "\n",
        "# plotting log(α) VS AUC score Plot\n",
        "plt.figure(figsize=(10,10))\n",
        "plt.plot(log_of_alphas, train_auc, label='Train AUC')  # Train data curve\n",
        "plt.plot(log_of_alphas, cv_auc, label='CV AUC')  # CV data curve\n",
        "\n",
        "plt.scatter(log_of_alphas, train_auc, label='Train AUC points')  # train data points on the curve\n",
        "plt.scatter(log_of_alphas, cv_auc, label='CV AUC points')  # CV data points on the curve\n",
        "\n",
        "plt.legend()\n",
        "plt.xlabel('log of alpha')  # X axis label\n",
        "plt.ylabel('AUC score')  # Y axis label\n",
        "plt.title('log(alpha) VS AUC score Plot')\n",
        "plt.grid()\n",
        "plt.show()"
      ]
    },
    {
      "cell_type": "markdown",
      "metadata": {
        "id": "k5Uj5uKgUt-V"
      },
      "source": [
        "Observation - <br>\n",
        "\n",
        "\n",
        "*   log of alpha values taken to accomodate all the alpha values in the plot.\n",
        "*   Both the train curve as well as CV curve converges at log(alpha)=7 with AUC score=0.5.\n",
        "\n"
      ]
    },
    {
      "cell_type": "markdown",
      "metadata": {
        "id": "7PIl4mg6iSYd"
      },
      "source": [
        "*Method 2 : k-fold cross validation using GridSearchCV*"
      ]
    },
    {
      "cell_type": "code",
      "execution_count": null,
      "metadata": {
        "colab": {
          "base_uri": "https://localhost:8080/"
        },
        "id": "fqhprixgddoA",
        "outputId": "f1c00376-0507-4b14-c522-787876489429"
      },
      "outputs": [
        {
          "name": "stdout",
          "output_type": "stream",
          "text": [
            "Fitting 10 folds for each of 9 candidates, totalling 90 fits\n",
            "[CV] alpha=1e-05 .....................................................\n",
            "[CV] ...................................... alpha=1e-05, total=   0.1s\n",
            "[CV] alpha=1e-05 .....................................................\n"
          ]
        },
        {
          "name": "stderr",
          "output_type": "stream",
          "text": [
            "[Parallel(n_jobs=1)]: Using backend SequentialBackend with 1 concurrent workers.\n",
            "[Parallel(n_jobs=1)]: Done   1 out of   1 | elapsed:    0.1s remaining:    0.0s\n"
          ]
        },
        {
          "name": "stdout",
          "output_type": "stream",
          "text": [
            "[CV] ...................................... alpha=1e-05, total=   0.1s\n",
            "[CV] alpha=1e-05 .....................................................\n",
            "[CV] ...................................... alpha=1e-05, total=   0.1s\n",
            "[CV] alpha=1e-05 .....................................................\n",
            "[CV] ...................................... alpha=1e-05, total=   0.1s\n",
            "[CV] alpha=1e-05 .....................................................\n",
            "[CV] ...................................... alpha=1e-05, total=   0.1s\n",
            "[CV] alpha=1e-05 .....................................................\n",
            "[CV] ...................................... alpha=1e-05, total=   0.1s\n",
            "[CV] alpha=1e-05 .....................................................\n",
            "[CV] ...................................... alpha=1e-05, total=   0.1s\n",
            "[CV] alpha=1e-05 .....................................................\n",
            "[CV] ...................................... alpha=1e-05, total=   0.1s\n",
            "[CV] alpha=1e-05 .....................................................\n",
            "[CV] ...................................... alpha=1e-05, total=   0.1s\n",
            "[CV] alpha=1e-05 .....................................................\n",
            "[CV] ...................................... alpha=1e-05, total=   0.1s\n",
            "[CV] alpha=0.0001 ....................................................\n",
            "[CV] ..................................... alpha=0.0001, total=   0.1s\n",
            "[CV] alpha=0.0001 ....................................................\n",
            "[CV] ..................................... alpha=0.0001, total=   0.1s\n",
            "[CV] alpha=0.0001 ....................................................\n",
            "[CV] ..................................... alpha=0.0001, total=   0.1s\n",
            "[CV] alpha=0.0001 ....................................................\n",
            "[CV] ..................................... alpha=0.0001, total=   0.1s\n",
            "[CV] alpha=0.0001 ....................................................\n",
            "[CV] ..................................... alpha=0.0001, total=   0.1s\n",
            "[CV] alpha=0.0001 ....................................................\n",
            "[CV] ..................................... alpha=0.0001, total=   0.1s\n",
            "[CV] alpha=0.0001 ....................................................\n",
            "[CV] ..................................... alpha=0.0001, total=   0.1s\n",
            "[CV] alpha=0.0001 ....................................................\n",
            "[CV] ..................................... alpha=0.0001, total=   0.1s\n",
            "[CV] alpha=0.0001 ....................................................\n",
            "[CV] ..................................... alpha=0.0001, total=   0.1s\n",
            "[CV] alpha=0.0001 ....................................................\n",
            "[CV] ..................................... alpha=0.0001, total=   0.1s\n",
            "[CV] alpha=0.001 .....................................................\n",
            "[CV] ...................................... alpha=0.001, total=   0.1s\n",
            "[CV] alpha=0.001 .....................................................\n",
            "[CV] ...................................... alpha=0.001, total=   0.1s\n",
            "[CV] alpha=0.001 .....................................................\n",
            "[CV] ...................................... alpha=0.001, total=   0.1s\n",
            "[CV] alpha=0.001 .....................................................\n",
            "[CV] ...................................... alpha=0.001, total=   0.1s\n",
            "[CV] alpha=0.001 .....................................................\n",
            "[CV] ...................................... alpha=0.001, total=   0.1s\n",
            "[CV] alpha=0.001 .....................................................\n",
            "[CV] ...................................... alpha=0.001, total=   0.1s\n",
            "[CV] alpha=0.001 .....................................................\n",
            "[CV] ...................................... alpha=0.001, total=   0.1s\n",
            "[CV] alpha=0.001 .....................................................\n",
            "[CV] ...................................... alpha=0.001, total=   0.1s\n",
            "[CV] alpha=0.001 .....................................................\n",
            "[CV] ...................................... alpha=0.001, total=   0.1s\n",
            "[CV] alpha=0.001 .....................................................\n",
            "[CV] ...................................... alpha=0.001, total=   0.1s\n",
            "[CV] alpha=0.01 ......................................................\n",
            "[CV] ....................................... alpha=0.01, total=   0.1s\n",
            "[CV] alpha=0.01 ......................................................\n",
            "[CV] ....................................... alpha=0.01, total=   0.1s\n",
            "[CV] alpha=0.01 ......................................................\n",
            "[CV] ....................................... alpha=0.01, total=   0.1s\n",
            "[CV] alpha=0.01 ......................................................\n",
            "[CV] ....................................... alpha=0.01, total=   0.1s\n",
            "[CV] alpha=0.01 ......................................................\n",
            "[CV] ....................................... alpha=0.01, total=   0.1s\n",
            "[CV] alpha=0.01 ......................................................\n",
            "[CV] ....................................... alpha=0.01, total=   0.1s\n",
            "[CV] alpha=0.01 ......................................................\n",
            "[CV] ....................................... alpha=0.01, total=   0.1s\n",
            "[CV] alpha=0.01 ......................................................\n",
            "[CV] ....................................... alpha=0.01, total=   0.1s\n",
            "[CV] alpha=0.01 ......................................................\n",
            "[CV] ....................................... alpha=0.01, total=   0.1s\n",
            "[CV] alpha=0.01 ......................................................\n",
            "[CV] ....................................... alpha=0.01, total=   0.1s\n",
            "[CV] alpha=0.1 .......................................................\n",
            "[CV] ........................................ alpha=0.1, total=   0.1s\n",
            "[CV] alpha=0.1 .......................................................\n",
            "[CV] ........................................ alpha=0.1, total=   0.1s\n",
            "[CV] alpha=0.1 .......................................................\n",
            "[CV] ........................................ alpha=0.1, total=   0.1s\n",
            "[CV] alpha=0.1 .......................................................\n",
            "[CV] ........................................ alpha=0.1, total=   0.1s\n",
            "[CV] alpha=0.1 .......................................................\n",
            "[CV] ........................................ alpha=0.1, total=   0.1s\n",
            "[CV] alpha=0.1 .......................................................\n",
            "[CV] ........................................ alpha=0.1, total=   0.1s\n",
            "[CV] alpha=0.1 .......................................................\n",
            "[CV] ........................................ alpha=0.1, total=   0.1s\n",
            "[CV] alpha=0.1 .......................................................\n",
            "[CV] ........................................ alpha=0.1, total=   0.1s\n",
            "[CV] alpha=0.1 .......................................................\n",
            "[CV] ........................................ alpha=0.1, total=   0.1s\n",
            "[CV] alpha=0.1 .......................................................\n",
            "[CV] ........................................ alpha=0.1, total=   0.1s\n",
            "[CV] alpha=1 .........................................................\n",
            "[CV] .......................................... alpha=1, total=   0.1s\n",
            "[CV] alpha=1 .........................................................\n",
            "[CV] .......................................... alpha=1, total=   0.1s\n",
            "[CV] alpha=1 .........................................................\n",
            "[CV] .......................................... alpha=1, total=   0.1s\n",
            "[CV] alpha=1 .........................................................\n",
            "[CV] .......................................... alpha=1, total=   0.1s\n",
            "[CV] alpha=1 .........................................................\n",
            "[CV] .......................................... alpha=1, total=   0.1s\n",
            "[CV] alpha=1 .........................................................\n",
            "[CV] .......................................... alpha=1, total=   0.1s\n",
            "[CV] alpha=1 .........................................................\n",
            "[CV] .......................................... alpha=1, total=   0.1s\n",
            "[CV] alpha=1 .........................................................\n",
            "[CV] .......................................... alpha=1, total=   0.1s\n",
            "[CV] alpha=1 .........................................................\n",
            "[CV] .......................................... alpha=1, total=   0.1s\n",
            "[CV] alpha=1 .........................................................\n",
            "[CV] .......................................... alpha=1, total=   0.1s\n",
            "[CV] alpha=10 ........................................................\n",
            "[CV] ......................................... alpha=10, total=   0.1s\n",
            "[CV] alpha=10 ........................................................\n",
            "[CV] ......................................... alpha=10, total=   0.1s\n",
            "[CV] alpha=10 ........................................................\n",
            "[CV] ......................................... alpha=10, total=   0.1s\n",
            "[CV] alpha=10 ........................................................\n",
            "[CV] ......................................... alpha=10, total=   0.1s\n",
            "[CV] alpha=10 ........................................................\n",
            "[CV] ......................................... alpha=10, total=   0.1s\n",
            "[CV] alpha=10 ........................................................\n",
            "[CV] ......................................... alpha=10, total=   0.1s\n",
            "[CV] alpha=10 ........................................................\n",
            "[CV] ......................................... alpha=10, total=   0.1s\n",
            "[CV] alpha=10 ........................................................\n",
            "[CV] ......................................... alpha=10, total=   0.1s\n",
            "[CV] alpha=10 ........................................................\n",
            "[CV] ......................................... alpha=10, total=   0.1s\n",
            "[CV] alpha=10 ........................................................\n",
            "[CV] ......................................... alpha=10, total=   0.1s\n",
            "[CV] alpha=100 .......................................................\n",
            "[CV] ........................................ alpha=100, total=   0.1s\n",
            "[CV] alpha=100 .......................................................\n",
            "[CV] ........................................ alpha=100, total=   0.1s\n",
            "[CV] alpha=100 .......................................................\n",
            "[CV] ........................................ alpha=100, total=   0.1s\n",
            "[CV] alpha=100 .......................................................\n",
            "[CV] ........................................ alpha=100, total=   0.1s\n",
            "[CV] alpha=100 .......................................................\n",
            "[CV] ........................................ alpha=100, total=   0.1s\n",
            "[CV] alpha=100 .......................................................\n",
            "[CV] ........................................ alpha=100, total=   0.1s\n",
            "[CV] alpha=100 .......................................................\n",
            "[CV] ........................................ alpha=100, total=   0.1s\n",
            "[CV] alpha=100 .......................................................\n",
            "[CV] ........................................ alpha=100, total=   0.1s\n",
            "[CV] alpha=100 .......................................................\n",
            "[CV] ........................................ alpha=100, total=   0.1s\n",
            "[CV] alpha=100 .......................................................\n",
            "[CV] ........................................ alpha=100, total=   0.1s\n",
            "[CV] alpha=1000 ......................................................\n",
            "[CV] ....................................... alpha=1000, total=   0.1s\n",
            "[CV] alpha=1000 ......................................................\n",
            "[CV] ....................................... alpha=1000, total=   0.1s\n",
            "[CV] alpha=1000 ......................................................\n",
            "[CV] ....................................... alpha=1000, total=   0.1s\n",
            "[CV] alpha=1000 ......................................................\n",
            "[CV] ....................................... alpha=1000, total=   0.1s\n",
            "[CV] alpha=1000 ......................................................\n",
            "[CV] ....................................... alpha=1000, total=   0.1s\n",
            "[CV] alpha=1000 ......................................................\n",
            "[CV] ....................................... alpha=1000, total=   0.1s\n",
            "[CV] alpha=1000 ......................................................\n",
            "[CV] ....................................... alpha=1000, total=   0.1s\n",
            "[CV] alpha=1000 ......................................................\n",
            "[CV] ....................................... alpha=1000, total=   0.1s\n",
            "[CV] alpha=1000 ......................................................\n",
            "[CV] ....................................... alpha=1000, total=   0.1s\n",
            "[CV] alpha=1000 ......................................................\n",
            "[CV] ....................................... alpha=1000, total=   0.1s\n"
          ]
        },
        {
          "name": "stderr",
          "output_type": "stream",
          "text": [
            "[Parallel(n_jobs=1)]: Done  90 out of  90 | elapsed:   12.3s finished\n"
          ]
        }
      ],
      "source": [
        "# reference - https://scikit-learn.org/stable/modules/generated/sklearn.model_selection.GridSearchCV.html?highlight=gridsearchcv#sklearn.model_selection.GridSearchCV\n",
        "from sklearn.model_selection import GridSearchCV  # for k fold cross validation of the data\n",
        "\n",
        "multi_nb = MultinomialNB(class_prior=[0.5,0.5]) # class_prior - prior probabilities of the classes\n",
        "params = {'alpha':[0.00001, 0.0001, 0.001, 0.01, 0.1, 1, 10,  100,  1000]} # α values from 10⁻⁵ to 10³\n",
        "\n",
        "gridsearch = GridSearchCV(multi_nb, params, cv=10, scoring='roc_auc', return_train_score=True, verbose=2)  # cross validation of data done using GridSearchCV() with cv=10 folds\n",
        "# verbose is set to 2, to display progress messages  # scoring - strategy to evaluate the performance of the cross-validated model on the test set.\n",
        "gridsearch.fit(X_train_s1, y_train) # fitting on set 1 training data # CV data not used while using k-fold cross validation\n",
        "\n",
        "train_auc= gridsearch.cv_results_['mean_train_score']  # mean/average auc score of train data\n",
        "train_auc_std= gridsearch.cv_results_['std_train_score']  # standard deviation of auc score of train data\n",
        "cv_auc = gridsearch.cv_results_['mean_test_score']  # mean/average auc score of cv data\n",
        "cv_auc_std= gridsearch.cv_results_['std_test_score']  # standard deviation of auc score of cv data"
      ]
    },
    {
      "cell_type": "code",
      "execution_count": null,
      "metadata": {
        "colab": {
          "base_uri": "https://localhost:8080/",
          "height": 638
        },
        "id": "_U55af_goUpE",
        "outputId": "86893cb9-6efd-4e26-ee76-4653e8c4ee29"
      },
      "outputs": [
        {
          "name": "stderr",
          "output_type": "stream",
          "text": [
            "100%|██████████| 9/9 [00:00<00:00, 8569.52it/s]\n"
          ]
        },
        {
          "data": {
            "image/png": "[encoded data removed]",
            "text/plain": [
              "<Figure size 1440x720 with 1 Axes>"
            ]
          },
          "metadata": {
            "needs_background": "light",
            "tags": []
          },
          "output_type": "display_data"
        }
      ],
      "source": [
        "alpha_values = [0.00001, 0.0001, 0.001, 0.01, 0.1, 1, 10,  100,  1000] # α values from 10⁻⁵ to 10³\n",
        "log_of_alphas = []  # empty list to store lof of alpha values provided\n",
        "\n",
        "for i in tqdm(alpha_values): # looping through the α values  # tqdm used to show the progress bar of for loop\n",
        "  j = math.log(i) # taking log value of α values as the range of α values is huge and we need to plot all of them\n",
        "  log_of_alphas.append(j)  # storing log of α values in the list\n",
        "\n",
        "# plotting log(α) VS AUC score Plot\n",
        "plt.figure(figsize=(20,10))\n",
        "plt.plot(log_of_alphas, train_auc, label='Train AUC')  # train data curve\n",
        "\n",
        "# plotting mean and std deviation of train data # reference - https://stackoverflow.com/questions/48796282/how-to-visualize-dependence-of-model-performance-alpha-with-matplotlib/48803361#48803361\n",
        "plt.gca().fill_between(log_of_alphas, train_auc - train_auc_std,train_auc + train_auc_std,alpha=0.3,color='darkblue')\n",
        "\n",
        "plt.plot(log_of_alphas, cv_auc, label='CV AUC')  # cv data curve\n",
        "\n",
        "# plotting mean and std deviation of cv data # reference - https://stackoverflow.com/questions/48796282/how-to-visualize-dependence-of-model-performance-alpha-with-matplotlib/48803361#48803361\n",
        "plt.gca().fill_between(log_of_alphas, cv_auc - cv_auc_std,cv_auc + cv_auc_std,alpha=0.3,color='darkorange')\n",
        "\n",
        "plt.scatter(log_of_alphas, train_auc, label='Train AUC points') # train data points on the curve\n",
        "plt.scatter(log_of_alphas, cv_auc, label='CV AUC points') # cv data points on the curve\n",
        "\n",
        "plt.legend()\n",
        "plt.xlabel('log of alpha')  # X axis label\n",
        "plt.ylabel('AUC score')  # Y axis label\n",
        "plt.title('log(alpha) VS AUC score Plot')\n",
        "plt.grid()\n",
        "plt.show()"
      ]
    },
    {
      "cell_type": "markdown",
      "metadata": {
        "id": "2tsFqHLXjYnH"
      },
      "source": [
        "Observation - <br>\n",
        "\n",
        "\n",
        "*   log of alpha values taken to accomodate all the alpha values in the plot.\n",
        "*   Both the train curve as well as CV curve converges at log(alpha)=7 with AUC score=0.5.\n",
        "\n"
      ]
    },
    {
      "cell_type": "code",
      "execution_count": null,
      "metadata": {
        "colab": {
          "base_uri": "https://localhost:8080/"
        },
        "id": "NfgY5urFoJwU",
        "outputId": "995a58c9-3017-42b2-893b-26562b0b42c6"
      },
      "outputs": [
        {
          "name": "stdout",
          "output_type": "stream",
          "text": [
            "Optimal hyperparameter alpha is -  {'alpha': 0.0001}\n"
          ]
        }
      ],
      "source": [
        "# reference - https://stackoverflow.com/questions/30102973/how-to-get-best-estimator-on-gridsearchcv-random-forest-classifier-scikit\n",
        "print('Optimal hyperparameter alpha is - ', gridsearch.best_params_)  # printing the best/optimal value of alpha\n",
        "# NOTE - to obtain best_params_, estimator is fitted first(e.g. gridsearch.fit()) which we have done above"
      ]
    },
    {
      "cell_type": "markdown",
      "metadata": {
        "id": "2aLuJkSwuaKD"
      },
      "source": [
        "**1.7.2 Using the optimal hyperparameter value and training the model**"
      ]
    },
    {
      "cell_type": "code",
      "execution_count": null,
      "metadata": {
        "colab": {
          "base_uri": "https://localhost:8080/",
          "height": 295
        },
        "id": "EScPI8mculhx",
        "outputId": "34e756e4-28b0-4180-f50c-5c4f67ab6efc"
      },
      "outputs": [
        {
          "data": {
            "image/png": "[encoded data removed]",
            "text/plain": [
              "<Figure size 432x288 with 1 Axes>"
            ]
          },
          "metadata": {
            "needs_background": "light",
            "tags": []
          },
          "output_type": "display_data"
        }
      ],
      "source": [
        "multi_nb_bow = MultinomialNB(alpha = 0.0001, class_prior=[0.5,0.5])  # passing the alpha value obtained in the classifier\n",
        "multi_nb_bow.fit(X_train_s1, y_train) # classifier fitted using fit() on set 1 train data and training the model\n",
        "\n",
        "y_train_predict = batch_predict(multi_nb_bow, X_train_s1) # batchwise prediction for set 1 train data\n",
        "y_test_predict = batch_predict(multi_nb_bow, X_test_s1) # batchwise prediction for set 1 test data\n",
        "\n",
        "fpr_train, tpr_train, threshold_train = roc_curve(y_train, y_train_predict) # computing roc of train data and assigning value to train's fpr,tpr,threshold\n",
        "fpr_test, tpr_test, threshold_test = roc_curve(y_test, y_test_predict)  # computing roc of test data and assigning value to test's fpr,tpr,threshold\n",
        "\n",
        "# plotting train-test auc curve\n",
        "plt.plot(fpr_train, tpr_train, label='Train AUC = '+str(auc(fpr_train, tpr_train))) # plotting train auc curve using tpr,fpr values of train data\n",
        "plt.plot(fpr_test, tpr_test, label='Test AUC = '+str(auc(fpr_test, tpr_test))) # plotting test auc curve using tpr,fpr values of test data\n",
        "\n",
        "plt.legend()\n",
        "plt.xlabel('TPR') # X axis label\n",
        "plt.ylabel('FPR') # Y axis label\n",
        "plt.title('Train-Test AUC Curve')\n",
        "plt.grid()\n",
        "plt.show()"
      ]
    },
    {
      "cell_type": "markdown",
      "metadata": {
        "id": "p4U9ABjql2uO"
      },
      "source": [
        "Obsrvation - For Set 1(alpha=0.0001) <br>\n",
        "\n",
        "\n",
        "*   Train AUC score obtained is 0.72\n",
        "*   Test AUC score obtained is 0.68\n",
        "\n"
      ]
    },
    {
      "cell_type": "markdown",
      "metadata": {
        "id": "fcnyx9D30U4g"
      },
      "source": [
        "**1.7.3 Confusion matrix**"
      ]
    },
    {
      "cell_type": "code",
      "execution_count": null,
      "metadata": {
        "id": "COMaYf691dSW"
      },
      "outputs": [],
      "source": [
        "# function to calculate best threshold which will give maximum value of tpr*(1-fpr)\n",
        "def best_threshold(threshold, fpr, tpr):\n",
        "  t = threshold[np.argmax(tpr*(1-fpr))]  # (tpr*(1-fpr)) will be maximum if fpr is very low and tpr is very high  # yeild the corresponding threshold\n",
        "  print('The maximum value of tpr*(1-fpr) is ', max(tpr*(1-fpr)), 'for threshold ', np.round(t,3))\n",
        "  return t\n",
        "\n",
        "# function to predict the data points with best threshold obtained from above function\n",
        "def predict_with_best_threshold(proba, threshold):\n",
        "  predictions = []  # empty list to store predicted outputs\n",
        "  for i in proba: # looping through the predicted probabilty values of train,test data\n",
        "    if i >= threshold:  # predicted probability greater than best threshold obtained\n",
        "      predictions.append(1)  # append data point as positive(1)\n",
        "    else:  # predicted probability less than best threshold obtained\n",
        "      predictions.append(0)  # append data point as negative(0)\n",
        "  return predictions"
      ]
    },
    {
      "cell_type": "markdown",
      "metadata": {
        "id": "hM9cFkXI0bHX"
      },
      "source": [
        "*Train Data Confusion matrix*"
      ]
    },
    {
      "cell_type": "code",
      "execution_count": null,
      "metadata": {
        "colab": {
          "base_uri": "https://localhost:8080/"
        },
        "id": "g03UV5L-0kKW",
        "outputId": "87105972-22bf-465d-f3de-fd6e93521e0b"
      },
      "outputs": [
        {
          "name": "stdout",
          "output_type": "stream",
          "text": [
            "The maximum value of tpr*(1-fpr) is  0.45440585216927454 for threshold  0.404\n",
            "Train Data Confusion Matrix - \n",
            "[[ 4542  2274]\n",
            " [12111 25963]]\n"
          ]
        }
      ],
      "source": [
        "from sklearn.metrics import confusion_matrix  # to compute confusion matrix of the dataset\n",
        "\n",
        "best_threshold_value = best_threshold(threshold_train, fpr_train, tpr_train)  # giving training data parameters to calculate best threshold value\n",
        "print('Train Data Confusion Matrix - ')\n",
        "print(confusion_matrix(y_train, predict_with_best_threshold(y_train_predict, best_threshold_value))) # printing the confusion matrix with tp,fp,tn,fn values of train data"
      ]
    },
    {
      "cell_type": "code",
      "execution_count": null,
      "metadata": {
        "id": "zPTx1OC_45Ae"
      },
      "outputs": [],
      "source": [
        "train_conf_matrix_df = pd.DataFrame(confusion_matrix(y_train, predict_with_best_threshold(y_train_predict, best_threshold_value)), range(2), range(2)) # assigning a variable to the confusion matrix"
      ]
    },
    {
      "cell_type": "code",
      "execution_count": null,
      "metadata": {
        "colab": {
          "base_uri": "https://localhost:8080/",
          "height": 290
        },
        "id": "YaVYw2wb6DE1",
        "outputId": "b7b8fd62-bd05-4271-8fda-31569e00a2d1"
      },
      "outputs": [
        {
          "data": {
            "text/plain": [
              "<matplotlib.axes._subplots.AxesSubplot at 0x7f733b6da2d0>"
            ]
          },
          "execution_count": 26,
          "metadata": {
            "tags": []
          },
          "output_type": "execute_result"
        },
        {
          "data": {
            "image/png": "[encoded data removed]",
            "text/plain": [
              "<Figure size 432x288 with 2 Axes>"
            ]
          },
          "metadata": {
            "tags": []
          },
          "output_type": "display_data"
        }
      ],
      "source": [
        "# reference - https://stackoverflow.com/questions/61748441/how-to-fix-the-values-displayed-in-a-confusion-matrix-in-exponential-form-to-nor\n",
        "sns.set(font_scale=1.4)\n",
        "sns.heatmap(train_conf_matrix_df, annot=True, annot_kws={'size':16}, fmt='g')  # fmt='g' used to fix values displayed in confusion matrix in exponential form to normal form"
      ]
    },
    {
      "cell_type": "markdown",
      "metadata": {
        "id": "0udwIt27rQTj"
      },
      "source": [
        "Observation - <br>\n",
        "\n",
        "\n",
        "*   Train data confusion matrix is having large number of True Positive values(TP=25963) whereas it has less number of True Negative values(TN=4542).\n",
        "*   There are large number of False Negative values(FN=12111) which means model predicted those points to be Negative points but actually they are positive points. This happens data data imbalance(huge number of positive points compared to negative points).\n",
        "\n"
      ]
    },
    {
      "cell_type": "markdown",
      "metadata": {
        "id": "rw1YvJbH7AM1"
      },
      "source": [
        "*Test Data Confusion Matrix*"
      ]
    },
    {
      "cell_type": "code",
      "execution_count": null,
      "metadata": {
        "colab": {
          "base_uri": "https://localhost:8080/"
        },
        "id": "X9uIDXRk7FBT",
        "outputId": "c3c3c068-8d2b-40b5-accb-b589db8f3e33"
      },
      "outputs": [
        {
          "name": "stdout",
          "output_type": "stream",
          "text": [
            "The maximum value of tpr*(1-fpr) is  0.40545333769759523 for threshold  0.583\n",
            "Test Data Confusion Matrix - \n",
            "[[ 3189  1821]\n",
            " [10161 17829]]\n"
          ]
        }
      ],
      "source": [
        "best_threshold_value_test = best_threshold(threshold_test, fpr_test, tpr_test) # giving test data parameters to calculate best threshold value\n",
        "print('Test Data Confusion Matrix - ')\n",
        "print(confusion_matrix(y_test, predict_with_best_threshold(y_test_predict, best_threshold_value_test))) # printing the confusion matrix with tp,fp,tn,fn values of test data"
      ]
    },
    {
      "cell_type": "code",
      "execution_count": null,
      "metadata": {
        "id": "FIaeLUEd7mBE"
      },
      "outputs": [],
      "source": [
        "test_conf_matrix_df = pd.DataFrame(confusion_matrix(y_test, predict_with_best_threshold(y_test_predict, best_threshold_value_test)), range(2), range(2)) # assigning a variable to the confusion matrix"
      ]
    },
    {
      "cell_type": "code",
      "execution_count": null,
      "metadata": {
        "colab": {
          "base_uri": "https://localhost:8080/",
          "height": 291
        },
        "id": "POl_Rj-S7tU8",
        "outputId": "e7e92535-c73f-4449-c89f-ccd48af8749d"
      },
      "outputs": [
        {
          "data": {
            "text/plain": [
              "<matplotlib.axes._subplots.AxesSubplot at 0x7f73366c2710>"
            ]
          },
          "execution_count": 29,
          "metadata": {
            "tags": []
          },
          "output_type": "execute_result"
        },
        {
          "data": {
            "image/png": "[encoded data removed]",
            "text/plain": [
              "<Figure size 432x288 with 2 Axes>"
            ]
          },
          "metadata": {
            "tags": []
          },
          "output_type": "display_data"
        }
      ],
      "source": [
        "# reference - https://stackoverflow.com/questions/61748441/how-to-fix-the-values-displayed-in-a-confusion-matrix-in-exponential-form-to-nor\n",
        "sns.set(font_scale=1.4)\n",
        "sns.heatmap(test_conf_matrix_df, annot=True, annot_kws={'size':16}, fmt='g') # fmt='g' used to fix values displayed in confusion matrix in exponential form to normal form"
      ]
    },
    {
      "cell_type": "markdown",
      "metadata": {
        "id": "FgSsM8vytKzE"
      },
      "source": [
        "Observation - <br>\n",
        "\n",
        "\n",
        "*   Test data confusion matrix is having large number of True Positive values(TP=17829) whereas it has less number of True Negative values(TN=3189).\n",
        "*   There are large number of False Negative values(FN=10161) which means model predicted those points to be Negative points but actually they are positive points. This happens data data imbalance(huge number of positive points compared to negative points).\n",
        "\n"
      ]
    },
    {
      "cell_type": "markdown",
      "metadata": {
        "id": "JAKQexkPR691"
      },
      "source": [
        "<h3>B] Applying Naive Bayes on Set 2 - categorical, numerical features + preprocessed_essay (TFIDF)</h3>"
      ]
    },
    {
      "cell_type": "markdown",
      "metadata": {
        "id": "cIg8I0y09Ukm"
      },
      "source": [
        "**1.7.4 Hyperparameter tuning methods(here hyperparameter is alpha)**"
      ]
    },
    {
      "cell_type": "markdown",
      "metadata": {
        "id": "xlzpipFX9ebs"
      },
      "source": [
        "*Method 1 : Simple For loop*"
      ]
    },
    {
      "cell_type": "code",
      "execution_count": null,
      "metadata": {
        "colab": {
          "base_uri": "https://localhost:8080/",
          "height": 674
        },
        "id": "IIwlgTPhR82c",
        "outputId": "e5eb32ff-0dd2-48b5-d308-4246cfc1f315"
      },
      "outputs": [
        {
          "name": "stderr",
          "output_type": "stream",
          "text": [
            "100%|██████████| 9/9 [00:02<00:00,  4.06it/s]\n",
            "100%|██████████| 9/9 [00:00<00:00, 16563.73it/s]\n"
          ]
        },
        {
          "data": {
            "image/png": "[encoded data removed]",
            "text/plain": [
              "<Figure size 720x720 with 1 Axes>"
            ]
          },
          "metadata": {
            "tags": []
          },
          "output_type": "display_data"
        }
      ],
      "source": [
        "# importing required libraries\n",
        "from sklearn.naive_bayes import MultinomialNB\n",
        "from sklearn.metrics import roc_auc_score\n",
        "import math\n",
        "\n",
        "train_auc = [] # empty list to store auc score of train data\n",
        "cv_auc = [] # empty list to store auc score of cv data\n",
        "log_of_alphas = [] # empty list to store lof of alpha values provided\n",
        "\n",
        "alpha_values = [0.00001, 0.0001, 0.001, 0.01, 0.1, 1, 10,  100,  1000] # α values from 10⁻⁵ to 10³\n",
        "\n",
        "for i in tqdm(alpha_values): # looping through the α values  # tqdm used to show the progress bar of for loop\n",
        "  multi_nb = MultinomialNB(alpha = i, class_prior=[0.5,0.5]) # class_prior - prior probabilities of the classes # reference - https://scikit-learn.org/stable/modules/generated/sklearn.naive_bayes.MultinomialNB.html\n",
        "  multi_nb.fit(X_train_s2, y_train) # fitting on set 2 training data\n",
        "  y_train_predict = batch_predict(multi_nb, X_train_s2) # batchwise prediction for set 2 train data\n",
        "  y_cv_predict = batch_predict(multi_nb, X_cv_s2) # batchwise prediction for set 2 cv data\n",
        "\n",
        "  train_auc.append(roc_auc_score(y_train, y_train_predict)) # storing the auc score in train_auc list\n",
        "  cv_auc.append(roc_auc_score(y_cv, y_cv_predict)) # storing the auc score in cv_auc list\n",
        "\n",
        "for j in tqdm(alpha_values): # looping through the α values  # tqdm used to show the progress bar of for loop\n",
        "  k = math.log(j) # taking log value of α values as the range of α values is huge and we need to plot all of them\n",
        "  log_of_alphas.append(k) # storing log of α values in the list\n",
        "\n",
        "# plotting log(α) VS AUC score Plot\n",
        "plt.figure(figsize=(10,10))\n",
        "plt.plot(log_of_alphas, train_auc, label='Train AUC')\n",
        "plt.plot(log_of_alphas, cv_auc, label='CV AUC')\n",
        "\n",
        "plt.scatter(log_of_alphas, train_auc, label='Train AUC points')\n",
        "plt.scatter(log_of_alphas, cv_auc, label='CV AUC points')\n",
        "\n",
        "plt.legend()\n",
        "plt.xlabel('log of alpha')\n",
        "plt.ylabel('AUC score')\n",
        "plt.title('log(alpha) VS AUC score Plot')\n",
        "plt.grid()\n",
        "plt.show()"
      ]
    },
    {
      "cell_type": "markdown",
      "metadata": {
        "id": "vUC_g9JwvS5q"
      },
      "source": [
        "Observation - <br>\n",
        "\n",
        "\n",
        "*   log of alpha values taken to accomodate all the alpha values in the plot.\n",
        "*   Both the train curve as well as CV curve almost converges at log(alpha)=3 with AUC score near to 0.55.\n",
        "\n"
      ]
    },
    {
      "cell_type": "markdown",
      "metadata": {
        "id": "9aMWso9F-CXj"
      },
      "source": [
        "*Method 2 : k-fold cross validation using GridSearchCV*"
      ]
    },
    {
      "cell_type": "code",
      "execution_count": null,
      "metadata": {
        "colab": {
          "base_uri": "https://localhost:8080/"
        },
        "id": "jnUJgKtM-ECz",
        "outputId": "5f8d8d4b-a70e-4c6a-bf33-f6e6f1b18198",
        "collapsed": true
      },
      "outputs": [
        {
          "name": "stdout",
          "output_type": "stream",
          "text": [
            "Fitting 10 folds for each of 9 candidates, totalling 90 fits\n",
            "[CV] alpha=1e-05 .....................................................\n",
            "[CV] ...................................... alpha=1e-05, total=   0.1s\n",
            "[CV] alpha=1e-05 .....................................................\n"
          ]
        },
        {
          "name": "stderr",
          "output_type": "stream",
          "text": [
            "[Parallel(n_jobs=1)]: Using backend SequentialBackend with 1 concurrent workers.\n",
            "[Parallel(n_jobs=1)]: Done   1 out of   1 | elapsed:    0.1s remaining:    0.0s\n"
          ]
        },
        {
          "name": "stdout",
          "output_type": "stream",
          "text": [
            "[CV] ...................................... alpha=1e-05, total=   0.1s\n",
            "[CV] alpha=1e-05 .....................................................\n",
            "[CV] ...................................... alpha=1e-05, total=   0.1s\n",
            "[CV] alpha=1e-05 .....................................................\n",
            "[CV] ...................................... alpha=1e-05, total=   0.1s\n",
            "[CV] alpha=1e-05 .....................................................\n",
            "[CV] ...................................... alpha=1e-05, total=   0.1s\n",
            "[CV] alpha=1e-05 .....................................................\n",
            "[CV] ...................................... alpha=1e-05, total=   0.1s\n",
            "[CV] alpha=1e-05 .....................................................\n",
            "[CV] ...................................... alpha=1e-05, total=   0.1s\n",
            "[CV] alpha=1e-05 .....................................................\n",
            "[CV] ...................................... alpha=1e-05, total=   0.1s\n",
            "[CV] alpha=1e-05 .....................................................\n",
            "[CV] ...................................... alpha=1e-05, total=   0.1s\n",
            "[CV] alpha=1e-05 .....................................................\n",
            "[CV] ...................................... alpha=1e-05, total=   0.1s\n",
            "[CV] alpha=0.0001 ....................................................\n",
            "[CV] ..................................... alpha=0.0001, total=   0.1s\n",
            "[CV] alpha=0.0001 ....................................................\n",
            "[CV] ..................................... alpha=0.0001, total=   0.1s\n",
            "[CV] alpha=0.0001 ....................................................\n",
            "[CV] ..................................... alpha=0.0001, total=   0.1s\n",
            "[CV] alpha=0.0001 ....................................................\n",
            "[CV] ..................................... alpha=0.0001, total=   0.1s\n",
            "[CV] alpha=0.0001 ....................................................\n",
            "[CV] ..................................... alpha=0.0001, total=   0.1s\n",
            "[CV] alpha=0.0001 ....................................................\n",
            "[CV] ..................................... alpha=0.0001, total=   0.1s\n",
            "[CV] alpha=0.0001 ....................................................\n",
            "[CV] ..................................... alpha=0.0001, total=   0.1s\n",
            "[CV] alpha=0.0001 ....................................................\n",
            "[CV] ..................................... alpha=0.0001, total=   0.1s\n",
            "[CV] alpha=0.0001 ....................................................\n",
            "[CV] ..................................... alpha=0.0001, total=   0.1s\n",
            "[CV] alpha=0.0001 ....................................................\n",
            "[CV] ..................................... alpha=0.0001, total=   0.1s\n",
            "[CV] alpha=0.001 .....................................................\n",
            "[CV] ...................................... alpha=0.001, total=   0.1s\n",
            "[CV] alpha=0.001 .....................................................\n",
            "[CV] ...................................... alpha=0.001, total=   0.1s\n",
            "[CV] alpha=0.001 .....................................................\n",
            "[CV] ...................................... alpha=0.001, total=   0.1s\n",
            "[CV] alpha=0.001 .....................................................\n",
            "[CV] ...................................... alpha=0.001, total=   0.1s\n",
            "[CV] alpha=0.001 .....................................................\n",
            "[CV] ...................................... alpha=0.001, total=   0.1s\n",
            "[CV] alpha=0.001 .....................................................\n",
            "[CV] ...................................... alpha=0.001, total=   0.1s\n",
            "[CV] alpha=0.001 .....................................................\n",
            "[CV] ...................................... alpha=0.001, total=   0.1s\n",
            "[CV] alpha=0.001 .....................................................\n",
            "[CV] ...................................... alpha=0.001, total=   0.1s\n",
            "[CV] alpha=0.001 .....................................................\n",
            "[CV] ...................................... alpha=0.001, total=   0.1s\n",
            "[CV] alpha=0.001 .....................................................\n",
            "[CV] ...................................... alpha=0.001, total=   0.1s\n",
            "[CV] alpha=0.01 ......................................................\n",
            "[CV] ....................................... alpha=0.01, total=   0.1s\n",
            "[CV] alpha=0.01 ......................................................\n",
            "[CV] ....................................... alpha=0.01, total=   0.1s\n",
            "[CV] alpha=0.01 ......................................................\n",
            "[CV] ....................................... alpha=0.01, total=   0.1s\n",
            "[CV] alpha=0.01 ......................................................\n",
            "[CV] ....................................... alpha=0.01, total=   0.1s\n",
            "[CV] alpha=0.01 ......................................................\n",
            "[CV] ....................................... alpha=0.01, total=   0.1s\n",
            "[CV] alpha=0.01 ......................................................\n",
            "[CV] ....................................... alpha=0.01, total=   0.1s\n",
            "[CV] alpha=0.01 ......................................................\n",
            "[CV] ....................................... alpha=0.01, total=   0.1s\n",
            "[CV] alpha=0.01 ......................................................\n",
            "[CV] ....................................... alpha=0.01, total=   0.1s\n",
            "[CV] alpha=0.01 ......................................................\n",
            "[CV] ....................................... alpha=0.01, total=   0.1s\n",
            "[CV] alpha=0.01 ......................................................\n",
            "[CV] ....................................... alpha=0.01, total=   0.1s\n",
            "[CV] alpha=0.1 .......................................................\n",
            "[CV] ........................................ alpha=0.1, total=   0.1s\n",
            "[CV] alpha=0.1 .......................................................\n",
            "[CV] ........................................ alpha=0.1, total=   0.1s\n",
            "[CV] alpha=0.1 .......................................................\n",
            "[CV] ........................................ alpha=0.1, total=   0.1s\n",
            "[CV] alpha=0.1 .......................................................\n",
            "[CV] ........................................ alpha=0.1, total=   0.1s\n",
            "[CV] alpha=0.1 .......................................................\n",
            "[CV] ........................................ alpha=0.1, total=   0.1s\n",
            "[CV] alpha=0.1 .......................................................\n",
            "[CV] ........................................ alpha=0.1, total=   0.1s\n",
            "[CV] alpha=0.1 .......................................................\n",
            "[CV] ........................................ alpha=0.1, total=   0.1s\n",
            "[CV] alpha=0.1 .......................................................\n",
            "[CV] ........................................ alpha=0.1, total=   0.1s\n",
            "[CV] alpha=0.1 .......................................................\n",
            "[CV] ........................................ alpha=0.1, total=   0.1s\n",
            "[CV] alpha=0.1 .......................................................\n",
            "[CV] ........................................ alpha=0.1, total=   0.1s\n",
            "[CV] alpha=1 .........................................................\n",
            "[CV] .......................................... alpha=1, total=   0.1s\n",
            "[CV] alpha=1 .........................................................\n",
            "[CV] .......................................... alpha=1, total=   0.1s\n",
            "[CV] alpha=1 .........................................................\n",
            "[CV] .......................................... alpha=1, total=   0.1s\n",
            "[CV] alpha=1 .........................................................\n",
            "[CV] .......................................... alpha=1, total=   0.1s\n",
            "[CV] alpha=1 .........................................................\n",
            "[CV] .......................................... alpha=1, total=   0.1s\n",
            "[CV] alpha=1 .........................................................\n",
            "[CV] .......................................... alpha=1, total=   0.1s\n",
            "[CV] alpha=1 .........................................................\n",
            "[CV] .......................................... alpha=1, total=   0.1s\n",
            "[CV] alpha=1 .........................................................\n",
            "[CV] .......................................... alpha=1, total=   0.1s\n",
            "[CV] alpha=1 .........................................................\n",
            "[CV] .......................................... alpha=1, total=   0.1s\n",
            "[CV] alpha=1 .........................................................\n",
            "[CV] .......................................... alpha=1, total=   0.1s\n",
            "[CV] alpha=10 ........................................................\n",
            "[CV] ......................................... alpha=10, total=   0.1s\n",
            "[CV] alpha=10 ........................................................\n",
            "[CV] ......................................... alpha=10, total=   0.1s\n",
            "[CV] alpha=10 ........................................................\n",
            "[CV] ......................................... alpha=10, total=   0.1s\n",
            "[CV] alpha=10 ........................................................\n",
            "[CV] ......................................... alpha=10, total=   0.1s\n",
            "[CV] alpha=10 ........................................................\n",
            "[CV] ......................................... alpha=10, total=   0.1s\n",
            "[CV] alpha=10 ........................................................\n",
            "[CV] ......................................... alpha=10, total=   0.1s\n",
            "[CV] alpha=10 ........................................................\n",
            "[CV] ......................................... alpha=10, total=   0.1s\n",
            "[CV] alpha=10 ........................................................\n",
            "[CV] ......................................... alpha=10, total=   0.1s\n",
            "[CV] alpha=10 ........................................................\n",
            "[CV] ......................................... alpha=10, total=   0.1s\n",
            "[CV] alpha=10 ........................................................\n",
            "[CV] ......................................... alpha=10, total=   0.1s\n",
            "[CV] alpha=100 .......................................................\n",
            "[CV] ........................................ alpha=100, total=   0.1s\n",
            "[CV] alpha=100 .......................................................\n",
            "[CV] ........................................ alpha=100, total=   0.1s\n",
            "[CV] alpha=100 .......................................................\n",
            "[CV] ........................................ alpha=100, total=   0.1s\n",
            "[CV] alpha=100 .......................................................\n",
            "[CV] ........................................ alpha=100, total=   0.1s\n",
            "[CV] alpha=100 .......................................................\n",
            "[CV] ........................................ alpha=100, total=   0.1s\n",
            "[CV] alpha=100 .......................................................\n",
            "[CV] ........................................ alpha=100, total=   0.1s\n",
            "[CV] alpha=100 .......................................................\n",
            "[CV] ........................................ alpha=100, total=   0.1s\n",
            "[CV] alpha=100 .......................................................\n",
            "[CV] ........................................ alpha=100, total=   0.1s\n",
            "[CV] alpha=100 .......................................................\n",
            "[CV] ........................................ alpha=100, total=   0.1s\n",
            "[CV] alpha=100 .......................................................\n",
            "[CV] ........................................ alpha=100, total=   0.1s\n",
            "[CV] alpha=1000 ......................................................\n",
            "[CV] ....................................... alpha=1000, total=   0.1s\n",
            "[CV] alpha=1000 ......................................................\n",
            "[CV] ....................................... alpha=1000, total=   0.1s\n",
            "[CV] alpha=1000 ......................................................\n",
            "[CV] ....................................... alpha=1000, total=   0.1s\n",
            "[CV] alpha=1000 ......................................................\n",
            "[CV] ....................................... alpha=1000, total=   0.1s\n",
            "[CV] alpha=1000 ......................................................\n",
            "[CV] ....................................... alpha=1000, total=   0.1s\n",
            "[CV] alpha=1000 ......................................................\n",
            "[CV] ....................................... alpha=1000, total=   0.1s\n",
            "[CV] alpha=1000 ......................................................\n",
            "[CV] ....................................... alpha=1000, total=   0.1s\n",
            "[CV] alpha=1000 ......................................................\n",
            "[CV] ....................................... alpha=1000, total=   0.1s\n",
            "[CV] alpha=1000 ......................................................\n",
            "[CV] ....................................... alpha=1000, total=   0.1s\n",
            "[CV] alpha=1000 ......................................................\n",
            "[CV] ....................................... alpha=1000, total=   0.1s\n"
          ]
        },
        {
          "name": "stderr",
          "output_type": "stream",
          "text": [
            "[Parallel(n_jobs=1)]: Done  90 out of  90 | elapsed:   10.6s finished\n"
          ]
        }
      ],
      "source": [
        "from sklearn.model_selection import GridSearchCV # for k fold cross validation of the data\n",
        "\n",
        "multi_nb = MultinomialNB(class_prior=[0.5,0.5]) # class_prior - prior probabilities of the classes\n",
        "params = {'alpha':[0.00001, 0.0001, 0.001, 0.01, 0.1, 1, 10,  100,  1000]} # α values from 10⁻⁵ to 10³\n",
        "\n",
        "gridsearch = GridSearchCV(multi_nb, params, cv=10, scoring='roc_auc', return_train_score=True, verbose=2) # cross validation of data done using GridSearchCV() with cv=10 folds\n",
        "# verbose is set to 2, to display progress messages  # scoring - strategy to evaluate the performance of the cross-validated model on the test set.\n",
        "gridsearch.fit(X_train_s2, y_train) # fitting on set 2 training data # CV data not used while using k-fold cross validation\n",
        "\n",
        "train_auc= gridsearch.cv_results_['mean_train_score'] # mean/average auc score of train data\n",
        "train_auc_std= gridsearch.cv_results_['std_train_score'] # standard deviation of auc score of train data\n",
        "cv_auc = gridsearch.cv_results_['mean_test_score'] # mean/average auc score of cv data\n",
        "cv_auc_std= gridsearch.cv_results_['std_test_score'] # standard deviation of auc score of cv data"
      ]
    },
    {
      "cell_type": "code",
      "execution_count": null,
      "metadata": {
        "colab": {
          "base_uri": "https://localhost:8080/",
          "height": 658
        },
        "id": "JQE7VxVY-XEz",
        "outputId": "18ab0909-9667-4881-e1bb-afc55e63fb2c"
      },
      "outputs": [
        {
          "name": "stderr",
          "output_type": "stream",
          "text": [
            "100%|██████████| 9/9 [00:00<00:00, 2305.27it/s]\n"
          ]
        },
        {
          "data": {
            "image/png": "[encoded data removed]",
            "text/plain": [
              "<Figure size 1440x720 with 1 Axes>"
            ]
          },
          "metadata": {
            "tags": []
          },
          "output_type": "display_data"
        }
      ],
      "source": [
        "alpha_values = [0.00001, 0.0001, 0.001, 0.01, 0.1, 1, 10,  100,  1000]\n",
        "log_of_alphas = [] # empty list to store lof of alpha values provided\n",
        "\n",
        "for i in tqdm(alpha_values):\n",
        "  j = math.log(i)\n",
        "  log_of_alphas.append(j)\n",
        "\n",
        "# plotting log(α) VS AUC score Plot\n",
        "plt.figure(figsize=(20,10))\n",
        "plt.plot(log_of_alphas, train_auc, label='Train AUC')\n",
        "\n",
        "# plotting mean and std deviation of train data # reference - https://stackoverflow.com/questions/48796282/how-to-visualize-dependence-of-model-performance-alpha-with-matplotlib/48803361#48803361\n",
        "plt.gca().fill_between(log_of_alphas, train_auc - train_auc_std,train_auc + train_auc_std,alpha=0.3,color='darkblue')\n",
        "\n",
        "plt.plot(log_of_alphas, cv_auc, label='CV AUC')\n",
        "\n",
        "# plotting mean and std deviation of cv data # reference - https://stackoverflow.com/questions/48796282/how-to-visualize-dependence-of-model-performance-alpha-with-matplotlib/48803361#48803361\n",
        "plt.gca().fill_between(log_of_alphas, cv_auc - cv_auc_std,cv_auc + cv_auc_std,alpha=0.3,color='darkorange')\n",
        "\n",
        "plt.scatter(log_of_alphas, train_auc, label='Train AUC points')\n",
        "plt.scatter(log_of_alphas, cv_auc, label='CV AUC points')\n",
        "\n",
        "plt.legend()\n",
        "plt.xlabel('log of alpha')\n",
        "plt.ylabel('AUC score')\n",
        "plt.title('log(alpha) VS AUC score Plot')\n",
        "plt.grid()\n",
        "plt.show()"
      ]
    },
    {
      "cell_type": "markdown",
      "metadata": {
        "id": "Zldw_3Cvw0NB"
      },
      "source": [
        "Observation - <br>\n",
        "\n",
        "\n",
        "*   log of alpha values taken to accomodate all the alpha values in the plot.\n",
        "*   Both the train curve as well as CV curve converges at log(alpha)=7 with AUC score=0.5.\n",
        "\n"
      ]
    },
    {
      "cell_type": "code",
      "execution_count": null,
      "metadata": {
        "colab": {
          "base_uri": "https://localhost:8080/"
        },
        "id": "ne7t9Ez--ggU",
        "outputId": "d3c3b5c6-083b-4e7a-d8ef-d3f6de587506"
      },
      "outputs": [
        {
          "name": "stdout",
          "output_type": "stream",
          "text": [
            "Optimal hyperparameter alpha is -  {'alpha': 0.001}\n"
          ]
        }
      ],
      "source": [
        "print('Optimal hyperparameter alpha is - ', gridsearch.best_params_) # printing the best/optimal value of alpha\n",
        "# NOTE - to obtain best_params_, estimator is fitted first(e.g. gridsearch.fit()) which we have done above"
      ]
    },
    {
      "cell_type": "markdown",
      "metadata": {
        "id": "NVuAwWkU-pJU"
      },
      "source": [
        "**1.7.5 Using the optimal hyperparameter value and training the model**"
      ]
    },
    {
      "cell_type": "code",
      "execution_count": null,
      "metadata": {
        "colab": {
          "base_uri": "https://localhost:8080/",
          "height": 315
        },
        "id": "P0AFowkT-rWs",
        "outputId": "9296a83a-d5b9-4ad8-a31d-4d153663b7e1"
      },
      "outputs": [
        {
          "data": {
            "image/png": "[encoded data removed]",
            "text/plain": [
              "<Figure size 432x288 with 1 Axes>"
            ]
          },
          "metadata": {
            "tags": []
          },
          "output_type": "display_data"
        }
      ],
      "source": [
        "multi_nb_bow = MultinomialNB(alpha = 0.001, class_prior=[0.5,0.5]) # passing the alpha value obtained in the classifier\n",
        "multi_nb_bow.fit(X_train_s2, y_train) # classifier fitted using fit() on set 2 train data and training the model\n",
        "\n",
        "y_train_predict = batch_predict(multi_nb_bow, X_train_s2) # batchwise prediction for set 2 train data\n",
        "y_test_predict = batch_predict(multi_nb_bow, X_test_s2) # batchwise prediction for set 2 test data\n",
        "\n",
        "fpr_train, tpr_train, threshold_train = roc_curve(y_train, y_train_predict) # computing roc of train data and assigning value to train's fpr,tpr,threshold\n",
        "fpr_test, tpr_test, threshold_test = roc_curve(y_test, y_test_predict) # computing roc of test data and assigning value to test's fpr,tpr,threshold\n",
        "\n",
        "plt.plot(fpr_train, tpr_train, label='Train AUC = '+str(auc(fpr_train, tpr_train))) # plotting train auc curve using tpr,fpr values of train data\n",
        "plt.plot(fpr_test, tpr_test, label='Test AUC = '+str(auc(fpr_test, tpr_test))) # plotting test auc curve using tpr,fpr values of test data\n",
        "\n",
        "plt.legend()\n",
        "plt.xlabel('TPR')\n",
        "plt.ylabel('FPR')\n",
        "plt.title('Train-Test AUC Curve')\n",
        "plt.grid()\n",
        "plt.show()"
      ]
    },
    {
      "cell_type": "markdown",
      "metadata": {
        "id": "_RTAGcQoxu1x"
      },
      "source": [
        "Obsrvation - For Set 2(alpha=0.001) <br>\n",
        "\n",
        "\n",
        "*   Train AUC score obtained is 0.72\n",
        "*   Test AUC score obtained is 0.66\n",
        "\n"
      ]
    },
    {
      "cell_type": "markdown",
      "metadata": {
        "id": "aiNz73qGBrd7"
      },
      "source": [
        "**1.7.6 Confusion matrix**"
      ]
    },
    {
      "cell_type": "markdown",
      "metadata": {
        "id": "wpQSXNkTCDSi"
      },
      "source": [
        "*Train Data Confusion Matrix*"
      ]
    },
    {
      "cell_type": "code",
      "execution_count": null,
      "metadata": {
        "colab": {
          "base_uri": "https://localhost:8080/"
        },
        "id": "GCgVKqqfCJZc",
        "outputId": "e4e895ae-1f2e-4e97-8933-a1e2d7309fc6"
      },
      "outputs": [
        {
          "name": "stdout",
          "output_type": "stream",
          "text": [
            "The maximum value of tpr*(1-fpr) is  0.4479712921908189 for threshold  0.516\n",
            "Train Data Confusion Matrix - \n",
            "[[ 4761  2055]\n",
            " [13656 24418]]\n"
          ]
        }
      ],
      "source": [
        "from sklearn.metrics import confusion_matrix\n",
        "\n",
        "best_threshold_value = best_threshold(threshold_train, fpr_train, tpr_train) # giving training data parameters to calculate best threshold value\n",
        "print('Train Data Confusion Matrix - ')\n",
        "print(confusion_matrix(y_train, predict_with_best_threshold(y_train_predict, best_threshold_value))) # printing the confusion matrix with tp,fp,tn,fn values of train data"
      ]
    },
    {
      "cell_type": "code",
      "execution_count": null,
      "metadata": {
        "id": "EXc_82mlCj5B"
      },
      "outputs": [],
      "source": [
        "train_conf_matrix_df = pd.DataFrame(confusion_matrix(y_train, predict_with_best_threshold(y_train_predict, best_threshold_value)), range(2), range(2)) # assigning a variable to the confusion matrix"
      ]
    },
    {
      "cell_type": "code",
      "execution_count": null,
      "metadata": {
        "colab": {
          "base_uri": "https://localhost:8080/",
          "height": 290
        },
        "id": "2KI3KUvJCqwb",
        "outputId": "1f6e2046-1684-4057-e279-e738d0060381"
      },
      "outputs": [
        {
          "data": {
            "text/plain": [
              "<matplotlib.axes._subplots.AxesSubplot at 0x7f7343235050>"
            ]
          },
          "execution_count": 37,
          "metadata": {
            "tags": []
          },
          "output_type": "execute_result"
        },
        {
          "data": {
            "image/png": "[encoded data removed]",
            "text/plain": [
              "<Figure size 432x288 with 2 Axes>"
            ]
          },
          "metadata": {
            "tags": []
          },
          "output_type": "display_data"
        }
      ],
      "source": [
        "sns.set(font_scale=1.4)\n",
        "sns.heatmap(train_conf_matrix_df, annot=True, annot_kws={'size':16}, fmt='g') # fmt='g' used to fix values displayed in confusion matrix in exponential form to normal form"
      ]
    },
    {
      "cell_type": "markdown",
      "metadata": {
        "id": "SnaOSqS7y1co"
      },
      "source": [
        "Observation - <br>\n",
        "\n",
        "\n",
        "*   Train data confusion matrix is having large number of True Positive values(TP=24418) whereas it has less number of True Negative values(TN=4761).\n",
        "*   There are large number of False Negative values(FN=13656) which means model predicted those points to be Negative points but actually they are positive points. This happens data data imbalance(huge number of positive points compared to negative points).\n",
        "\n"
      ]
    },
    {
      "cell_type": "markdown",
      "metadata": {
        "id": "TCqBl7jmCwaJ"
      },
      "source": [
        "Test Data Confusion Matrix"
      ]
    },
    {
      "cell_type": "code",
      "execution_count": null,
      "metadata": {
        "colab": {
          "base_uri": "https://localhost:8080/"
        },
        "id": "w7KJe4TKC1oi",
        "outputId": "a29e6301-8d63-4acc-deaa-9fc6eea55352"
      },
      "outputs": [
        {
          "name": "stdout",
          "output_type": "stream",
          "text": [
            "The maximum value of tpr*(1-fpr) is  0.39122180077144747 for threshold  0.523\n",
            "Test Data Confusion Matrix - \n",
            "[[ 3222  1788]\n",
            " [10963 17027]]\n"
          ]
        }
      ],
      "source": [
        "best_threshold_value_test = best_threshold(threshold_test, fpr_test, tpr_test) # giving test data parameters to calculate best threshold value\n",
        "print('Test Data Confusion Matrix - ')\n",
        "print(confusion_matrix(y_test, predict_with_best_threshold(y_test_predict, best_threshold_value_test))) # printing the confusion matrix with tp,fp,tn,fn values of test data"
      ]
    },
    {
      "cell_type": "code",
      "execution_count": null,
      "metadata": {
        "id": "wkpbkbu8C7gq"
      },
      "outputs": [],
      "source": [
        "test_conf_matrix_df = pd.DataFrame(confusion_matrix(y_test, predict_with_best_threshold(y_test_predict, best_threshold_value_test)), range(2), range(2)) # assigning a variable to the confusion matrix"
      ]
    },
    {
      "cell_type": "code",
      "execution_count": null,
      "metadata": {
        "colab": {
          "base_uri": "https://localhost:8080/",
          "height": 290
        },
        "id": "_noRdFzDC_pS",
        "outputId": "58c5e57b-ac2b-4953-fa6b-331300c113f6"
      },
      "outputs": [
        {
          "data": {
            "text/plain": [
              "<matplotlib.axes._subplots.AxesSubplot at 0x7f732f971810>"
            ]
          },
          "execution_count": 40,
          "metadata": {
            "tags": []
          },
          "output_type": "execute_result"
        },
        {
          "data": {
            "image/png": "[encoded data removed]",
            "text/plain": [
              "<Figure size 432x288 with 2 Axes>"
            ]
          },
          "metadata": {
            "tags": []
          },
          "output_type": "display_data"
        }
      ],
      "source": [
        "sns.set(font_scale=1.4)\n",
        "sns.heatmap(test_conf_matrix_df, annot=True, annot_kws={'size':16}, fmt='g') # fmt='g' used to fix values displayed in confusion matrix in exponential form to normal form"
      ]
    },
    {
      "cell_type": "markdown",
      "metadata": {
        "id": "oFnQpzCMz1Io"
      },
      "source": [
        "Observation - <br>\n",
        "\n",
        "\n",
        "*   Test data confusion matrix is having large number of True Positive values(TP=17027) whereas it has less number of True Negative values(TN=3222).\n",
        "*   There are large number of False Negative values(FN=10963) which means model predicted those points to be Negative points but actually they are positive points. This happens data data imbalance(huge number of positive points compared to negative points).\n",
        "\n"
      ]
    },
    {
      "cell_type": "markdown",
      "metadata": {
        "id": "ow13hKyDEWlq"
      },
      "source": [
        "<h2>1.8 Find the top 20 features either from feature Set 1 or feature Set 2 </h2>"
      ]
    },
    {
      "cell_type": "markdown",
      "metadata": {
        "id": "cHlLCRu1z8Rg"
      },
      "source": [
        "*I am going to find top 20 features for feature Set 1*"
      ]
    },
    {
      "cell_type": "markdown",
      "metadata": {
        "id": "P_ILfHtrGHhQ"
      },
      "source": [
        "**Set 1 - BOW**"
      ]
    },
    {
      "cell_type": "code",
      "execution_count": null,
      "metadata": {
        "id": "dKTQ7sYCGO7x"
      },
      "outputs": [],
      "source": [
        "# hstack() used to stack sparse matrices horizontally (column wise)\n",
        "# reference - https://docs.scipy.org/doc/scipy/reference/generated/scipy.sparse.hstack.html\n",
        "\n",
        "# for train data\n",
        "X_train_s1 = hstack((bow_X_train_essay, price_norm_X_train, project_norm_X_train, teacher_pre_X_train, project_grade_X_train, school_state_X_train, clean_categories_X_train, clean_subcategories_X_train)).tocsr()\n",
        "# for cv data\n",
        "X_cv_s1 = hstack((bow_X_cv_essay, price_norm_X_cv, project_norm_X_cv, teacher_pre_X_cv, project_grade_X_cv, school_state_X_cv, clean_categories_X_cv, clean_subcategories_X_cv)).tocsr()\n",
        "# for test data\n",
        "X_test_s1 = hstack((bow_X_test_essay, price_norm_X_test, project_norm_X_test, teacher_pre_X_test, project_grade_X_test, school_state_X_test, clean_categories_X_test, clean_subcategories_X_test)).tocsr()"
      ]
    },
    {
      "cell_type": "code",
      "execution_count": null,
      "metadata": {
        "colab": {
          "base_uri": "https://localhost:8080/"
        },
        "id": "Cz7GfqynGhc4",
        "outputId": "1d98930c-de9b-4fad-8f77-79d4f13764a8"
      },
      "outputs": [
        {
          "data": {
            "text/plain": [
              "MultinomialNB(alpha=0.0001, class_prior=[0.5, 0.5], fit_prior=True)"
            ]
          },
          "execution_count": 42,
          "metadata": {
            "tags": []
          },
          "output_type": "execute_result"
        }
      ],
      "source": [
        "multi_nb_bow = MultinomialNB(alpha = 0.0001, class_prior=[0.5,0.5])  # classifier with best alpha obtained\n",
        "multi_nb_bow.fit(X_train_s1, y_train) # training the model on set 1 using fit() function"
      ]
    },
    {
      "cell_type": "code",
      "execution_count": null,
      "metadata": {
        "id": "_LUqxDs8G2Th"
      },
      "outputs": [],
      "source": [
        "feature_names_bow = [] # empty list to store feature names which were generated using BOW\n",
        "\n",
        "for count1 in teacher_vectorizer.get_feature_names(): # looping through teacher_vectorizer\n",
        "  feature_names_bow.append(count1) # storing feature names of teacher_vectorizer\n",
        "\n",
        "for count2 in project_grade_vectorizer.get_feature_names(): # looping through project_grade_vectorizer\n",
        "  feature_names_bow.append(count2) # storing feature names of project_grade_vectorizer\n",
        "\n",
        "for count3 in school_state_vectorizer.get_feature_names(): # looping through school_state_vectorizer\n",
        "  feature_names_bow.append(count3) # storing feature names of school_state_vectorizer\n",
        "\n",
        "for count4 in clean_categories_vectorizer.get_feature_names(): # looping through clean_categories_vectorizer\n",
        "  feature_names_bow.append(count4) # storing feature names of clean_categories_vectorizer\n",
        "\n",
        "for count5 in clean_subcategories_vectorizer.get_feature_names(): # looping through clean_subcategories_vectorizer\n",
        "  feature_names_bow.append(count5) # storing feature names of clean_subcategories_vectorizer\n",
        "\n",
        "for count6 in vectorizer.get_feature_names(): # looping through essay_vectorizer\n",
        "  feature_names_bow.append(count6) # storing feature names of essay_vectorizer\n",
        "\n",
        "feature_names_bow.append('price') # storing column name 'price'\n",
        "feature_names_bow.append('teacher_number_of_previously_posted_projects') # storing column name 'teacher_number_of_previously_posted_projects'"
      ]
    },
    {
      "cell_type": "code",
      "execution_count": null,
      "metadata": {
        "colab": {
          "base_uri": "https://localhost:8080/"
        },
        "id": "RWyhmiAvJzLI",
        "outputId": "d28068de-276e-4135-b0e3-3db0d2e9aadc"
      },
      "outputs": [
        {
          "data": {
            "text/plain": [
              "5101"
            ]
          },
          "execution_count": 44,
          "metadata": {
            "tags": []
          },
          "output_type": "execute_result"
        }
      ],
      "source": [
        "len(feature_names_bow) # printing total number of features present in the list"
      ]
    },
    {
      "cell_type": "markdown",
      "metadata": {
        "id": "iau-1IPPK1N5"
      },
      "source": [
        "**A] Top 20 positive features - BOW**"
      ]
    },
    {
      "cell_type": "code",
      "execution_count": null,
      "metadata": {
        "colab": {
          "base_uri": "https://localhost:8080/"
        },
        "id": "v9Kh42HvK-S3",
        "outputId": "6e28aa93-92f9-4b19-92c4-b9fde998be4b"
      },
      "outputs": [
        {
          "name": "stdout",
          "output_type": "stream",
          "text": [
            "spelling\n",
            "relationships\n",
            "meet needs students\n",
            "kit\n",
            "centered\n",
            "supports\n",
            "technology engineering\n",
            "my students want\n",
            "middle school students\n",
            "it goal\n",
            "grade reading\n",
            "love lots\n",
            "motivate students\n",
            "useful\n",
            "project help students\n",
            "we able\n",
            "moved\n",
            "time students\n",
            "leveled books\n",
            "mathematics\n"
          ]
        }
      ],
      "source": [
        "# reference - https://scikit-learn.org/stable/modules/generated/sklearn.naive_bayes.MultinomialNB.html\n",
        "# we need to sort in descending order. for that [::-1] used. # reference - mhttps://stackoverflow.com/questions/16486252/is-it-possible-to-use-argsort-in-descending-order\n",
        "positive_class_probas = multi_nb_bow.feature_log_prob_[1, :].argsort()[::-1][:5101] # [1,:] gives feature log probabilites for positive class\n",
        "for i in positive_class_probas[:20]: # looping through the positive class probabilities and taking 20 features only\n",
        "  print(feature_names_bow[i]) # printing the top 20 positive features"
      ]
    },
    {
      "cell_type": "markdown",
      "metadata": {
        "id": "seIj0tCdMQBW"
      },
      "source": [
        "**B] Top 20 negative features - BOW**"
      ]
    },
    {
      "cell_type": "code",
      "execution_count": null,
      "metadata": {
        "colab": {
          "base_uri": "https://localhost:8080/"
        },
        "id": "VVi-xCjFMT8O",
        "outputId": "20bb8205-a282-454e-8880-7dad1f198e71"
      },
      "outputs": [
        {
          "name": "stdout",
          "output_type": "stream",
          "text": [
            "spelling\n",
            "relationships\n",
            "kit\n",
            "meet needs students\n",
            "centered\n",
            "my students want\n",
            "it goal\n",
            "technology engineering\n",
            "supports\n",
            "grade reading\n",
            "middle school students\n",
            "motivate students\n",
            "love lots\n",
            "useful\n",
            "moved\n",
            "we able\n",
            "class this\n",
            "leveled books\n",
            "project help students\n",
            "mathematics\n"
          ]
        }
      ],
      "source": [
        "# reference - https://scikit-learn.org/stable/modules/generated/sklearn.naive_bayes.MultinomialNB.html\n",
        "# we need to sort in descending order. for that [::-1] used. # reference - mhttps://stackoverflow.com/questions/16486252/is-it-possible-to-use-argsort-in-descending-order\n",
        "negative_class_probas = multi_nb_bow.feature_log_prob_[0, :].argsort()[::-1][:5101] # [0,:] gives feature log probabilites for negative class\n",
        "for i in negative_class_probas[:20]: # looping through the ngeative class probabilities and taking 20 features only\n",
        "  print(feature_names_bow[i]) # printing the top 20 negative features"
      ]
    },
    {
      "cell_type": "markdown",
      "metadata": {
        "id": "dC4QTnDZ6i3l"
      },
      "source": [
        "Set 1 Observation (Top 20 words) - <br>\n",
        "\n",
        "\n",
        "*   Most of the words can be found in both the lists of positive and negative features but their relative order is not same.\n",
        "*   '*time students*' word is present only in the positive feature list whereas '*class this*' word is present only in negative feature list.\n",
        "\n"
      ]
    },
    {
      "cell_type": "markdown",
      "metadata": {
        "id": "lS9hIHdib3dp"
      },
      "source": [
        "<h1>3. Summary(Table Format)</h1>\n"
      ]
    },
    {
      "cell_type": "code",
      "execution_count": null,
      "metadata": {
        "colab": {
          "base_uri": "https://localhost:8080/"
        },
        "id": "uDAzfD09M-so",
        "outputId": "45c34305-53e5-407f-a040-2f83baf55fd1"
      },
      "outputs": [
        {
          "name": "stdout",
          "output_type": "stream",
          "text": [
            "+------------+-------------+---------------+----------+\n",
            "| Vectorizer |    Model    | Optimal alpha | Test AUC |\n",
            "+------------+-------------+---------------+----------+\n",
            "|    BOW     | Naive Bayes |     0.0001    |   0.68   |\n",
            "|   TFIDF    | Naive Bayes |     0.001     |   0.66   |\n",
            "+------------+-------------+---------------+----------+\n"
          ]
        }
      ],
      "source": [
        "# PrettyTable() used to summarize the data in tabular format\n",
        "# reference - https://pypi.org/project/prettytable/\n",
        "from prettytable import PrettyTable\n",
        "\n",
        "table = PrettyTable()\n",
        "table.field_names = ['Vectorizer', 'Model', 'Optimal alpha', 'Test AUC'] # column names provided\n",
        "\n",
        "table.add_row(['BOW', 'Naive Bayes', '0.0001', '0.68']) # filling corresponding values to the column names (first row)\n",
        "table.add_row(['TFIDF', 'Naive Bayes', '0.001', '0.66']) # filling corresponding values to the column names (second row)\n",
        "\n",
        "print(table)"
      ]
    },
    {
      "cell_type": "markdown",
      "metadata": {
        "id": "Fo8O7cH48i0j"
      },
      "source": [
        "Conclusion - <br>\n",
        "\n",
        "*   Set 1 (BOW) has slightly better Test AUC than Set 2(TFIDF).\n",
        "*   Naive Bayes is interpretable model and feature importance can be easily obtained for the features.\n",
        "\n"
      ]
    }
  ],
  "metadata": {
    "colab": {
      "provenance": []
    },
    "kernelspec": {
      "display_name": "Python 3",
      "language": "python",
      "name": "python3"
    },
    "language_info": {
      "codemirror_mode": {
        "name": "ipython",
        "version": 3
      },
      "file_extension": ".py",
      "mimetype": "text/x-python",
      "name": "python",
      "nbconvert_exporter": "python",
      "pygments_lexer": "ipython3",
      "version": "3.6.5"
    }
  },
  "nbformat": 4,
  "nbformat_minor": 0
}